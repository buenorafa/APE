{
  "nbformat": 4,
  "nbformat_minor": 0,
  "metadata": {
    "colab": {
      "provenance": [],
<<<<<<< HEAD
      "collapsed_sections": []
=======
      "collapsed_sections": [],
      "authorship_tag": "ABX9TyM/3jfLBBaXGSx/r31TPWbv",
      "include_colab_link": true
>>>>>>> 29a41f62e411a74f1141d7fc4f48cb22bbe73fa2
    },
    "kernelspec": {
      "name": "python3",
      "display_name": "Python 3"
    },
    "language_info": {
      "name": "python"
    }
  },
  "cells": [
    {
      "cell_type": "markdown",
<<<<<<< HEAD
=======
      "metadata": {
        "id": "view-in-github",
        "colab_type": "text"
      },
      "source": [
        "<a href=\"https://colab.research.google.com/github/buenorafa/APE/blob/main/valida_data.ipynb\" target=\"_parent\"><img src=\"https://colab.research.google.com/assets/colab-badge.svg\" alt=\"Open In Colab\"/></a>"
      ]
    },
    {
      "cell_type": "markdown",
>>>>>>> 29a41f62e411a74f1141d7fc4f48cb22bbe73fa2
      "source": [
        "# Exercício: Escreva um programa para validar uma data. "
      ],
      "metadata": {
        "id": "UaJg4FZzLmzx"
      }
    },
    {
      "cell_type": "markdown",
      "source": [
        "### Resolução: \n",
        "\n",
        "1.   Receber três valores inteiros (dia, mês e ano).\n",
        "2.   Verificar se o ano é menor ou igual que 2022 e se o dia é maior que 0.\n",
        "3.   Verificar se o ano é bissexto, se o ano for, fevereiro tem 29 dias, caso contrário fevereiro terá 28 dias.\n",
        "4.   Fazer validação dos meses restantes (1, 3, 5, 7, 8, 10, 12) com 31 dias e (4, 6, 9, 11) com 30 dias.\n",
        "\n"
      ],
      "metadata": {
        "id": "bjFgvFUIL0k9"
      }
    },
    {
      "cell_type": "code",
      "source": [
        "dia = int(input('Digite o dia: '))\n",
        "mes = int(input('Digite o mes: '))\n",
        "ano = int(input('Digite o ano: '))\n",
        "\n",
        "data = False\n",
        "\n",
        "if(ano <= 2022 and dia > 0): \n",
        "    # VERIFICA SE O ANO EH BISSEXTO:  \n",
        "    if(ano % 4 == 0 and ano % 100 != 0) or (ano % 400 == 0):\n",
        "        if(mes == 2 and dia <= 29):\n",
        "            data = True \n",
        "    elif(mes == 2 and dia <= 28):\n",
        "        data = True\n",
        "    elif(mes == 1 or mes == 3 or mes == 5 or mes == 7 or mes == 8 \\\n",
        "         or mes == 10 or mes == 12 ) and (dia <= 31):\n",
        "        data = True\n",
        "    elif(mes == 4 or mes == 6 or mes == 9 or mes == 11) and (dia <= 30):\n",
        "        data = True\n",
        "\n",
        "if data:\n",
        "    print('A data eh valida')\n",
        "else: \n",
        "    print('A data eh invalida')\n"
      ],
      "metadata": {
        "id": "nyHmxrAiN2os"
      },
      "execution_count": null,
      "outputs": []
    }
  ]
}