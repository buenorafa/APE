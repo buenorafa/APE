{
  "nbformat": 4,
  "nbformat_minor": 0,
  "metadata": {
    "colab": {
      "provenance": [],
      "authorship_tag": "ABX9TyNop0KA9fXg+dELH7A9yDhx",
      "include_colab_link": true
    },
    "kernelspec": {
      "name": "python3",
      "display_name": "Python 3"
    },
    "language_info": {
      "name": "python"
    }
  },
  "cells": [
    {
      "cell_type": "markdown",
      "metadata": {
        "id": "view-in-github",
        "colab_type": "text"
      },
      "source": [
        "<a href=\"https://colab.research.google.com/github/buenorafa/APE/blob/main/matriz_complementar.ipynb\" target=\"_parent\"><img src=\"https://colab.research.google.com/assets/colab-badge.svg\" alt=\"Open In Colab\"/></a>"
      ]
    },
    {
      "cell_type": "markdown",
      "source": [
        "# LISTA DE EXERCÍCIOS: MATRIZ (COMPLEMENTAR)"
      ],
      "metadata": {
        "id": "6yFeaHxDld4y"
      }
    },
    {
      "cell_type": "markdown",
      "source": [
        "### 1. Uma matriz de permutação é uma matriz quadrada cujos elementos são 0's ou 1's, tal que em cada linha e em cada coluna exista apenas um elemento igual a 1. Por exemplo, a matriz seguinte é uma matriz de permutação.\n",
        "\n",
        "![img1](https://drive.google.com/uc?export=view&id=12p0s35_K7XxgJYbgrXrZ0n0Q1wfgtvxP)\n",
        "\n",
        "### Com base na definição apresentada, escreva um programa que preencha uma matriz quadrada com valores fornecidos pelo usuário, determine e mostre se ela é uma matriz de permutação."
      ],
      "metadata": {
        "id": "NDVsRZOQlgpm"
      }
    },
    {
      "cell_type": "code",
      "source": [
        "# Recebe a ordem da matriz\n",
        "n = int(input('Digite a ordem da matriz: '))\n",
        "# Cria a matriz de ordem n\n",
        "mat = [[None]*n for i in range(n)]\n",
        "# Recebe os valores\n",
        "for i in range(n):\n",
        "  for j in range(n):\n",
        "    mat[i][j] = int(input(f'M[{i}][{j}]: '))\n",
        "# per começa como True, vamos verificar a soma das linhas e das colunas\n",
        "per = True\n",
        "for i in range(n):\n",
        "  soma_lin = 0\n",
        "  soma_col = 0\n",
        "  for j in range(n):\n",
        "    soma_lin += mat[i][j]\n",
        "    soma_col += mat[j][i]\n",
        "  # Se a soma das linhas ou das colunas for diferente de 1, per recebe falso\n",
        "  if soma_lin != 1 or soma_col != 1:\n",
        "    per = False\n",
        "# Imprime a matriz\n",
        "print('\\nMatriz: ')\n",
        "for i in range(n):\n",
        "  for j in range(n):\n",
        "    print(mat[i][j], end='\\t')\n",
        "  print()\n",
        "# Isto é um operador ternário em python, se for per for true imprime a primeira mensagem, senão imprime a segunda\n",
        "print('\\nÉ uma matriz de permutação' if per else '\\nNão é uma matriz de permutação')"
      ],
      "metadata": {
        "id": "EcDQXNTJSzOO"
      },
      "execution_count": null,
      "outputs": []
    },
    {
      "cell_type": "markdown",
      "source": [
        "### 2. Uma matriz quadrada contendo valores inteiros é denominada quadrado mágico quando a soma dos elementos de cada linha, a soma dos elementos de cada coluna e a soma dos elementos das diagonais principal e secundária são todos iguais. Por exemplo, a matriz seguinte é um quadrado mágico.\n",
        "\n",
        "![img2](https://drive.google.com/uc?export=view&id=1azvMsNWdRWF8UJoUWWkIv8Kbz7ZaB75H)\n",
        "\n",
        "### Escreva um programa que preencha uma matriz com valores fornecidos pelo usuário, determine e mostre se ela é um quadrado mágico.\n"
      ],
      "metadata": {
        "id": "rLaT3M5wmUVs"
      }
    },
    {
      "cell_type": "code",
      "source": [
        "# Recebe a ordem da matriz\n",
        "n = int(input('Digite a ordem da matriz: '))\n",
        "mat = [[None]*n for i in range(n)]\n",
        "# Faz a leitura dos valores\n",
        "for i in range(n):\n",
        "  for j in range(n):\n",
        "    mat[i][j] = int(input(f'M[{i}][{j}]: '))\n",
        "# Para ser quadrado mágico a soma das linhas, das colunas e das diagonais devem ser iguais\n",
        "# A soma de cada linha e coluna ficam salvas nesse vetor de tamanho n\n",
        "soma_lin = [0]*n \n",
        "soma_col = [0]*n\n",
        "d_prin = 0\n",
        "d_sec = 0\n",
        "for i in range(n):\n",
        "  for j in range(n):\n",
        "    # Faz soma de cada linha \n",
        "    soma_lin[i] += mat[i][j]\n",
        "    # Invertendo os índices da matriz conseguimos fazer a leitura de cada coluna\n",
        "    soma_col[i] += mat[j][i]\n",
        "    # Faz a soma da diagonal principal\n",
        "    if i == j:\n",
        "      d_prin += mat[i][j]\n",
        "    # Faz a soma da diagonal secundária\n",
        "    if i + j == n - 1:\n",
        "      d_sec += mat[i][j]\n",
        "# A primeira condição a ser checada são as diagonais são iguais\n",
        "resultado = True\n",
        "if d_prin == d_sec:\n",
        "  # Quando elas são iguais, iremos utilizar o seu valor para checar cada posição dos vetores soma_lin e soma_col\n",
        "  for i in range(n):\n",
        "    # Caso sejam diferentes, o a flag recebe o valor False\n",
        "    if d_prin != soma_lin[i] or d_prin != soma_col[i]:\n",
        "      resultado = False\n",
        "# Se as diagonais forem diferentes, o resultado recebe falso sem realizar nenhuma outra verificação\n",
        "else:\n",
        "  resultado = False\n",
        "  \n",
        "# Imprime a matriz\n",
        "print('\\nMatriz: ')\n",
        "for i in range(n):\n",
        "  for j in range(n):\n",
        "    print(mat[i][j], end='\\t')\n",
        "  print()\n",
        "# Operador ternário: print('Imprime esta mensagem' if(Condição for verdadeira) else 'Imprime esta outra')\n",
        "print('\\nÉ um quadrado mágico!' if resultado else '\\nNão é um quadrado mágico')"
      ],
      "metadata": {
        "id": "OfeYsZXwotbp"
      },
      "execution_count": null,
      "outputs": []
    },
    {
      "cell_type": "markdown",
      "source": [
        "### 3. Escreva um programa que preencha uma matriz quadrada de ordem 3 com valores inteiros fornecidos pelo usuário (ou gerados aleatoriamente), calcule e exiba:\n",
        "\n",
        "* A soma dos elementos de cada linha;\n",
        "* A soma dos elementos de cada coluna;\n",
        "* A soma dos elementos da diagonal principal da matriz;\n",
        "* A soma dos elementos da diagonal secundária da matriz;\n",
        "* A soma de todos os elementos da matriz."
      ],
      "metadata": {
        "id": "UEIkCufMnNI4"
      }
    },
    {
      "cell_type": "code",
      "source": [
        "import random \n",
        "# Ordem da matriz deve ser 3\n",
        "n = 3\n",
        "# Inicia a matriz de ordem 3\n",
        "mat = [[None]*n for i in range(n)]\n",
        "# Atribui valores random a matriz\n",
        "for i in range(n):\n",
        "  for j in range(n):\n",
        "    mat[i][j] = random.randint(1,10)\n",
        "print(mat,'\\n')\n",
        "# Fazendo as somas\n",
        "soma_lin = [0]*n\n",
        "soma_col = [0]*n\n",
        "d_prin = 0\n",
        "d_sec = 0\n",
        "for i in range(n):\n",
        "  for j in range(n):\n",
        "    # A soma da linha i ficará salva na posição i de soma_lin\n",
        "    soma_lin[i] += mat[i][j]\n",
        "    # A soma da coluna j ficará salva na posição i de soma_col\n",
        "    soma_col[i] += mat[j][i]\n",
        "    # Faz a soma da diagonal principal\n",
        "    if i == j:\n",
        "      d_prin += mat[i][j]\n",
        "    # Faz a soma da diagonal secundária\n",
        "    if i + j == n - 1:\n",
        "      d_sec += mat[i][j]\n",
        "# Imprimindo as somas\n",
        "# Imprime a soma de cada linha e realiza a soma total\n",
        "soma_total = 0\n",
        "for i in range(n):\n",
        "  print(f'Linha [{i}]: {soma_lin[i]}')\n",
        "  soma_total += soma_lin[i]\n",
        "# Imprime a soma de cada coluna\n",
        "for i in range(n):\n",
        "  print(f'Coluna [{i}]: {soma_col[i]}')\n",
        "# Imprime a soma das diagonais\n",
        "print(f'Diagonal principal: {d_prin}')\n",
        "print(f'Diagonal secundária: {d_sec}')\n",
        "# Imprime a soma total\n",
        "print(f'Total: {soma_total}')"
      ],
      "metadata": {
        "id": "eBWIzlqdouNY"
      },
      "execution_count": null,
      "outputs": []
    },
    {
      "cell_type": "markdown",
      "source": [
        "### 4. Uma análise dos acidentes de trânsito está sendo realizada em Manhattan, New York. Os cruzamentos das ruas 30 a 38 com as avenidas 1a a 10a foram estudadas. \n",
        "### Faça um programa para, a partir da informação acima, processar a matriz de acidentes resultante desse estudo. \n",
        "### Para cada acidente, será informado o local do cruzamento (Avenida x Rua). \n",
        "###O programa deverá ler um número desconhecido de acidentes (utilize qualquer condição de parada a sua escolha). \n",
        "### Ao final da leitura dos dados, o programa deverá gerar e exibir a matriz de acidentes (obs: exiba na matriz os cabeçalhos de linha e de coluna mostrando a identificação das ruas e das avenidas)"
      ],
      "metadata": {
        "id": "ZN6u3Wj7ndMw"
      }
    },
    {
      "cell_type": "code",
      "source": [
        "av_i = 1\n",
        "av_f = 10\n",
        "r_i = 30\n",
        "r_f = 38\n",
        "# Essas operações são feitas para encontrar o tamanho de cada vetor da matriz\n",
        "n_lin = av_f - av_i + 1\n",
        "n_col = r_f - r_i + 1\n",
        "# Inicia a matriz com 0's em cada elemento\n",
        "mapa = [[0]*n_col for i in range(n_lin)]\n",
        "# Aqui iremos fazer a leitura de cada cruzamento onde houve acidente\n",
        "# Como o programa deve se repetir por um numero indeterminado de vezes, iremos iniciar o while com o valor de True\n",
        "print('Informe o local de cada acidente')\n",
        "# A condição de parada:\n",
        "print('Para encerrar, digite 0 para a Av.\\n')\n",
        "while True:\n",
        "  av = int(input(f'Av. ({av_i} a {av_f}): '))\n",
        "  if av == 0:\n",
        "    # Encerra o loop\n",
        "    break\n",
        "  rua = int(input(f'Rua ({r_i} a {r_f}): '))\n",
        "  # Para adicionar esses valores na matriz, devemos subtrair os valores iniciais da Av. e Rua\n",
        "  # Já que, por ex. um vetor de 10 posições é lido de 0 a 9, diferente da Av. 1 a 10\n",
        "  lin = av - av_i\n",
        "  col = rua - r_i\n",
        "  # Encontrada a linha e coluna, vamos adicionar 1 para cada acidente \n",
        "  mapa[lin][col] += 1\n",
        "print()\n",
        "#EXIBE A MATRIZ COM O CABEÇALHO\n",
        "print('Av./Rua', end='')\n",
        "# Exibe o cabeçalho das colunas \n",
        "for i in range(n_col):\n",
        "    print(f'{i+r_i:>4}',end='')\n",
        "print()\n",
        "for i in range(n_lin):\n",
        "  # Exibe o cabeçalho das linhas\n",
        "  print(f'{i+av_i:>4}   ', end='')\n",
        "  for j in range(n_col):\n",
        "    # Para melhor visualização, trocaremos todos os 0's por .'s \n",
        "    valor = mapa[i][j]\n",
        "    if valor == 0:\n",
        "      valor = '.'\n",
        "    print(f'{valor:>4}', end='')\n",
        "  print()"
      ],
      "metadata": {
        "id": "8gcNrRxxmtex"
      },
      "execution_count": null,
      "outputs": []
    },
    {
      "cell_type": "markdown",
      "source": [
        "### 5. A distância entre várias cidades é dada pela tabela abaixo (em km).\n",
        "\n",
        "![img5](https://drive.google.com/uc?export=view&id=1tUPDIuGB-4ET_4-KuUSTXloDjK6sr1nO)\n",
        "\n",
        "### Faça um programa que:\n",
        "* Armazene estas informações em uma matriz;\n",
        "* Mostre a distância percorrida para um determinado percurso (informado\n",
        "pelo usuário).\n",
        "\n",
        "Exemplo: Dado o percurso 1, 2, 3, 2, 5, 1, 4, a distância percorrida é\n",
        "15+10+10+28+12+5 = 80km.\n"
      ],
      "metadata": {
        "id": "RcMYNALnnqO5"
      }
    },
    {
      "cell_type": "code",
      "source": [
        "# Matriz dada pela questão\n",
        "m = [[0,15,30,5,12],[15,0,10,17,28],[30,10,0,3,11],[5,17,3,0,80],[12,28,11,80,0]]\n",
        "# Iniciamos a soma como 0\n",
        "soma = 0\n",
        "print('Digite a cidades do percuso (Para sair digite: 0)\\n')\n",
        "orig = int(input('Digite a origem: '))\n",
        "# Se o valor digitado for 0, o loop não será executado e o programa será encerrado\n",
        "if orig != 0:\n",
        "  while True:\n",
        "    dest = int(input('Digite o destino: '))\n",
        "    # Com isso encontramos as coordenadas da distância dada pela matriz m \n",
        "    # Se o destino for 0, o loop é encerrado pelo comando break \n",
        "    if dest == 0:\n",
        "      break\n",
        "    # Com as coordenadas das cidades, vamos somando as distâncias\n",
        "    soma += m[orig - 1][dest - 1]\n",
        "    # Origem passa a ser igual  ao destino, para que uma nova leitura seja feita \n",
        "    orig = dest\n",
        "# Exibe o resultado\n",
        "print(f'\\nDistância percorrida: {soma} km')"
      ],
      "metadata": {
        "id": "PKLtJaogonCR"
      },
      "execution_count": null,
      "outputs": []
    }
  ]
}