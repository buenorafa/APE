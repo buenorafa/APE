{
  "nbformat": 4,
  "nbformat_minor": 0,
  "metadata": {
    "colab": {
      "provenance": [],
      "collapsed_sections": [],
      "include_colab_link": true
    },
    "kernelspec": {
      "name": "python3",
      "display_name": "Python 3"
    },
    "language_info": {
      "name": "python"
    }
  },
  "cells": [
    {
      "cell_type": "markdown",
      "metadata": {
        "id": "view-in-github",
        "colab_type": "text"
      },
      "source": [
        "<a href=\"https://colab.research.google.com/github/buenorafa/APE/blob/main/exercicio8.ipynb\" target=\"_parent\"><img src=\"https://colab.research.google.com/assets/colab-badge.svg\" alt=\"Open In Colab\"/></a>"
      ]
    },
    {
      "cell_type": "markdown",
      "source": [
        "# LISTA DE EXERCÍCIOS: VETOR"
      ],
      "metadata": {
        "id": "QfO5uwAdLosr"
      }
    },
    {
      "cell_type": "markdown",
      "source": [
        "### 1. Escreva um programa que leia um vetor A de N números inteiros (N será lido) e um outro inteiro K, construa e exiba um outro vetor B cujos elementos são os respectivos elementos de a multiplicados por K.\n",
        "Ex: A = [1,2,3], K = 5, B = [5,10,15]."
      ],
      "metadata": {
        "id": "eoIttBRsLsnC"
      }
    },
    {
      "cell_type": "code",
      "source": [
        "n = int(input('Digite o valor de N: '))\n",
        "k = int(input('Digite o valor de K: '))\n",
        "\n",
        "vetor_a = [None]*n\n",
        "vetor_b = [None]*n\n",
        "\n",
        "for i in range(n):\n",
        "    vetor_a[i] = int(input(f'Digite o valor de A[{i}]: '))\n",
        "    vetor_b[i] = vetor_a[i]*k\n",
        "print(f'\\nA: {vetor_a}\\nB: {vetor_b}')"
      ],
      "metadata": {
        "id": "D5_bJbPeL4Ys"
      },
      "execution_count": null,
      "outputs": []
    },
    {
      "cell_type": "markdown",
      "source": [
        "### 2. Escreva um programa que leia um vetor V (contendo 30 inteiros) e um valor inteiro K, calcule e exiba a quantidade de ocorrências de K dentro de V."
      ],
      "metadata": {
        "id": "3pI8bovOOb1G"
      }
    },
    {
      "cell_type": "code",
      "source": [
        "n = 3\n",
        "vetor_v = [None]*n\n",
        "for i in range(n):\n",
        "    vetor_v[i] = int(input(f'Digite o valor de V[{i}]: '))\n",
        "k = int(input('Digite o valor de K: '))\n",
        "count = 0\n",
        "for j in vetor_v:\n",
        "    if(j == k):\n",
        "        count += 1\n",
        "print(f'Nº de ocorrências: {count}')"
      ],
      "metadata": {
        "id": "L6N0Zq7aOg8p"
      },
      "execution_count": null,
      "outputs": []
    },
    {
      "cell_type": "markdown",
      "source": [
        "### 3. Escreva um programa que leia um vetor V contendo N elementos inteiros (N será lido) e um valor inteiro K, verifique e exiba se o K está ou não no vetor. Se estiver, informe em que posição (índice).\n",
        "Obs: K pode se repetir no vetor, nesse caso, mostre todas as posições onde o K\n",
        "aparece."
      ],
      "metadata": {
        "id": "S-v9C_C7Q6gI"
      }
    },
    {
      "cell_type": "code",
      "source": [
        "n = int(input('Digite o valor de N: '))\n",
        "v = [None]*n\n",
        "k = int(input('Digite o valor de K: '))\n",
        "repetidos = [None]*n\n",
        "for i in range(n):\n",
        "    v[i] = int(input(f'Digite o valor de V[{i}]: '))\n",
        "print('Repetições nas posições:', end=' ')\n",
        "for j in range(n):\n",
        "    if k == v[j]:\n",
        "        print(f'v[{j}]', end=' ')   "
      ],
      "metadata": {
        "id": "zKxINVNpRZTS"
      },
      "execution_count": null,
      "outputs": []
    },
    {
      "cell_type": "markdown",
      "source": [
        "### 4. Escreva um programa que leia 10 números e armazene-os em um vetor. Exiba:\n",
        "* Os números que estão nos índices pares;\n",
        "* Os números que estão nos índices ímpares."
      ],
      "metadata": {
        "id": "AYxfkjykShSR"
      }
    },
    {
      "cell_type": "code",
      "source": [
        "n = 5\n",
        "v = [None]*n\n",
        "pares = [None]*(n//2)\n",
        "impares = [None]*(n//2)\n",
        "for i in range(n):\n",
        "    v[i] = int(input(f'Digite o valor de V[{i}]: '))\n",
        "print('\\nPares:', end=' ')\n",
        "for j in range(n):\n",
        "    if j%2 == 0:\n",
        "        print(v[j], end=' ')\n",
        "print('\\nImpares:', end=' ')\n",
        "for k in range(n):\n",
        "    if k%2 != 0:\n",
        "        print(v[k], end=' ')"
      ],
      "metadata": {
        "id": "eRoPWLMQSnOh"
      },
      "execution_count": null,
      "outputs": []
    },
    {
      "cell_type": "markdown",
      "source": [
        "### 5. Escreva um programa que receba um vetor V de N números inteiros (N será lido), determine e exiba o maior e o menor elemento deste vetor e seus respectivos índices.\n",
        "Obs: suponha a inexistência de valores repetidos."
      ],
      "metadata": {
        "id": "3kHROjpaSnly"
      }
    },
    {
      "cell_type": "code",
      "source": [
        "n = int(input('Digite o valor de N: '))\n",
        "vetor = [None]*n\n",
        "for i in range(n):\n",
        "    vetor[i] = int(input(f'Digite o valor de v[{i}]: '))\n",
        "maior = vetor[0]\n",
        "menor = vetor[0]\n",
        "i_maior = 0\n",
        "i_menor = 0\n",
        "for j in range(1, n):\n",
        "    if (vetor[j] > maior):\n",
        "        maior = vetor[j]\n",
        "        i_maior = j\n",
        "    if (vetor[j] < menor):\n",
        "        menor = vetor[j]\n",
        "        i_menor = j\n",
        "print(f'\\nMaior: V[{i_maior}] = {maior}\\n\\\n",
        "Menor: V[{i_menor}] = {menor}')"
      ],
      "metadata": {
        "id": "Zzy2wRWCSspg"
      },
      "execution_count": null,
      "outputs": []
    },
    {
      "cell_type": "markdown",
      "source": [
        "### 6. Escreva um programa que leia um vetor de N números inteiros (N será lido), inverta a ordem dos elementos do vetor e exiba o vetor invertido.\n",
        "\n",
        "Ex: V = [1, 3, 5, 7], após a inversão: V = [7, 5, 3, 1].\n",
        "\n",
        "Obs: É necessário inverter os elementos do vetor, não basta imprimi-los em\n",
        "ordem inversa!"
      ],
      "metadata": {
        "id": "RyYDdfErSta4"
      }
    },
    {
      "cell_type": "code",
      "source": [
        "n = int(input('Digite o valor de N: '))\n",
        "v = [None]*n\n",
        "v_aux = [None]*n\n",
        "i = 0\n",
        "j = n-1\n",
        "while i < n:\n",
        "    v[i] = int(input(f'Digite o valor v[{i}]: '))\n",
        "    v_aux[j] = v[i]\n",
        "    i += 1\n",
        "    j -= 1\n",
        "for k in range(n):\n",
        "    v[k] = v_aux[k]\n",
        "print(f'V = {v}')"
      ],
      "metadata": {
        "id": "kgOzNvujltbd"
      },
      "execution_count": null,
      "outputs": []
    }
  ]
}