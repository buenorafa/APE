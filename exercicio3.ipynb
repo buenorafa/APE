{
  "cells": [
    {
      "cell_type": "markdown",
      "metadata": {
        "colab_type": "text",
        "id": "view-in-github"
      },
      "source": [
        "<a href=\"https://colab.research.google.com/github/buenorafa/APE/blob/main/exercicio3.ipynb\" target=\"_parent\"><img src=\"https://colab.research.google.com/assets/colab-badge.svg\" alt=\"Open In Colab\"/></a>"
      ]
    },
    {
      "cell_type": "markdown",
      "metadata": {
        "id": "ycaMmmLvmMke"
      },
      "source": [
        "# Lista de exercícios - Estruturas de decisão"
      ]
    },
    {
      "cell_type": "markdown",
      "metadata": {
        "id": "19aVZA_kmwqU"
      },
      "source": [
        "### 1. Escreva um programa que leia um número inteiro e determine se ele é par ou ímpar.\n",
        "\n",
        "\n"
      ]
    },
    {
      "cell_type": "code",
      "execution_count": null,
      "metadata": {
        "id": "Frf9VsWXm8xC"
      },
      "outputs": [],
      "source": [
        "num = int(input('Digite um numero inteiro: '))\n",
        "\n",
        "if(num % 2 == 0):\n",
        "    print(f'O numero {num} eh par')\n",
        "else:\n",
        "    print(f'O numero {num} eh impar')"
      ]
    },
    {
      "cell_type": "markdown",
      "metadata": {
        "id": "_EdpSzASnMSg"
      },
      "source": [
        "### 2. Escreva um programa que leia dois números e exiba-os em ordem crescente."
      ]
    },
    {
      "cell_type": "code",
      "execution_count": null,
      "metadata": {
        "id": "QtaVrH1mnYBm"
      },
      "outputs": [],
      "source": [
        "num_1 = float(input('Digite o primeiro numero: '))\n",
        "num_2 = float(input('Digite o segundo numero: '))\n",
        "\n",
        "if(num_1 < num_2):\n",
        "    print(f'{num_1} {num_2}')\n",
        "else:\n",
        "    print(f'{num_2} {num_1}')"
      ]
    },
    {
      "cell_type": "markdown",
      "metadata": {
        "id": "iMFBAAQVndJc"
      },
      "source": [
        "### 3. Escreva um programa que leia 3 números inteiros, determine e mostre o maior deles."
      ]
    },
    {
      "cell_type": "code",
      "execution_count": null,
      "metadata": {
        "id": "4B06c3XYnhJJ"
      },
      "outputs": [],
      "source": [
        "num_1 = int(input('Digite o primeiro numero inteiro: '))\n",
        "num_2 = int(input('Digite o segundo numero inteiro: '))\n",
        "num_3 = int(input('Digite o terceiro numero inteiro: '))\n",
        "maior_num = 0\n",
        "\n",
        "maior_num = num_1\n",
        "if(maior_num < num_2):\n",
        "  maior_num = num_2\n",
        "if(maior_num < num_3):\n",
        "  maior_num = num_3\n",
        "print(f'O maior numero eh: {maior_num}')"
      ]
    },
    {
      "cell_type": "markdown",
      "metadata": {
        "id": "3NGXYnGlnwil"
      },
      "source": [
        "### 4. Escreva um programa que leia o nome e o sexo (M ou F) de uma pessoa e exiba a mensagem\n",
        "\"Olá, Sr. Fulano!\" ou \"Olá, Sra. Fulana!\", de acordo com o sexo da pessoa. Obs: Fulano e Fulana\n",
        "são nomes exemplos."
      ]
    },
    {
      "cell_type": "code",
      "execution_count": null,
      "metadata": {
        "id": "pkwz3E-kn6HE"
      },
      "outputs": [],
      "source": [
        "nome = input('Digite o seu nome: ')\n",
        "sexo = input('Se for mulher digite M, se for homem digite H: ')\n",
        "\n",
        "if(sexo == 'm' or sexo == 'M'):\n",
        "    print(f'Ola, Sra. {nome}')\n",
        "elif(sexo == 'h' or sexo == 'H'):\n",
        "    print(f'Ola, Sr. {nome}')"
      ]
    },
    {
      "cell_type": "markdown",
      "metadata": {
        "id": "x_zCpv6Mn3XT"
      },
      "source": [
        "### 5. A empresa Vende Tudo Ltda paga o salário de cada vendedor com uma comissão de 5% sobre o total de vendas daquele vendedor, mas essa comissão nunca deve ser inferior ao salário-mínimo. Escreva um programa que leia o valor total das vendas de um vendedor e escreva seu salário."
      ]
    },
    {
      "cell_type": "code",
      "execution_count": null,
      "metadata": {
        "id": "VW9oT_YfoZ1x"
      },
      "outputs": [],
      "source": [
        "t_vendas = float(input('Digite o valor total das vendas: '))\n",
        "S_MIN = 1200.00\n",
        "comissao = t_vendas * 0.05\n",
        "\n",
        "if(comissao <=  S_MIN):\n",
        "    print(f'O salario eh: R$ {S_MIN}')\n",
        "else: \n",
        "    print(f'O salario eh: R$ {comissao:.2f}')"
      ]
    },
    {
      "cell_type": "markdown",
      "metadata": {
        "id": "dervEXs9ogl2"
      },
      "source": [
        "### 6. Recomendam-se estudantes para bolsas de estudo em função de seu desempenho.\n",
        "A natureza das recomendações é baseada na seguinte tabela:\n",
        "\n",
        "| Conceito | Recomendação           |\n",
        "|----------|------------------------|\n",
        "| A        | Fortemente recomendado |\n",
        "| B ou C   | Recomendado            |\n",
        "| D        | Não recomendado        |\n",
        "\n",
        "### Escreva um programa que leia o nome e o conceito de um estudante e exiba o nome do estudante e sua respectiva recomendação."
      ]
    },
    {
      "cell_type": "code",
      "execution_count": null,
      "metadata": {
        "id": "UZG10H6pp4ho"
      },
      "outputs": [],
      "source": [
        "nome = input('Digite o nome do aluno: ')\n",
        "conceito = input('Digite o conceito do aluno (A, B, C ou D): ')\n",
        "\n",
        "if(conceito == 'A'):\n",
        "    print(f'O aluno {nome} eh fortemente recomendado')\n",
        "elif(conceito == 'B' or conceito == 'C'):\n",
        "    print(f'O aluno {nome} eh recomendado')\n",
        "elif(conceito == 'D'):\n",
        "    print(f'O aluno {nome} nao eh recomendado')"
      ]
    },
    {
      "cell_type": "markdown",
      "metadata": {
        "id": "f65ScBP2rice"
      },
      "source": [
        "### 7. Escreva um programa que leia o peso (kg) e a altura (m) de uma pessoa, determine e mostre o seu grau de obesidade, de acordo com a tabela seguinte. O grau de obesidade é determinado pelo índice de massa corpórea, cujo cálculo é realizado dividindo-se o peso da pessoa pelo quadrado da sua altura.\n",
        "\n",
        "| Massa Corpórea | Grau de obesidade |\n",
        "|----------------|-------------------|\n",
        "| < 26           | Normal            |\n",
        "| <= 26 e < 30   | Obeso            |\n",
        "| >= 30           | Obeso mórbido         |\n"
      ]
    },
    {
      "cell_type": "code",
      "execution_count": null,
      "metadata": {
        "id": "LhZJn76psabP"
      },
      "outputs": [],
      "source": [
        "peso = float(input('Digite o peso: '))\n",
        "altura = float(input('Digite a altura: '))\n",
        "imc = peso / (altura ** 2)\n",
        "\n",
        "if(imc < 26):\n",
        "    print('IMC: Normal')\n",
        "elif(imc >= 26 and imc < 30):\n",
        "    print('IMC: Obeso')\n",
        "elif(imc >= 30):\n",
        "    print('IMC: Obeso morbido')"
      ]
    },
    {
      "cell_type": "markdown",
      "metadata": {
        "id": "HeAMso6DsmrE"
      },
      "source": [
        "### 8. Escreva um programa que tenha a funcionalidade de uma calculadora simples. O programa deve solicitar a digitação de dois operandos e um operador (+ - x * / %) e deve imprimir ao resultado da operação aritmética. Caso o usuário digite um operador inválido, o programa deve imprimir \"Operador desconhecido\"."
      ]
    },
    {
      "cell_type": "code",
      "execution_count": null,
      "metadata": {
        "id": "1uolA9tvssTD"
      },
      "outputs": [],
      "source": [
        "num_1 = float(input('Digite o primeiro operando: '))\n",
        "num_2 = float(input('Digite o segundo operando: '))\n",
        "operador = input('Digite o operador (+ - * / %): ')\n",
        "\n",
        "if(operador == '+'):\n",
        "    print(f'{num_1} + {num_2} = {num_1 + num_2}')\n",
        "elif(operador == '-'):\n",
        "    print(f'{num_1} - {num_2} = {num_1 - num_2}')\n",
        "elif(operador == '*'):\n",
        "    print(f'{num_1} * {num_2} = {num_1 * num_2}')\n",
        "elif(operador == '/'):\n",
        "    print(f'{num_1} / {num_2} = {num_1 / num_2}')\n",
        "elif(operador == '%'):\n",
        "    print(f'{num_1} % {num_2} = {num_1 % num_2}')\n",
        "else: print('Operador desconhecido')"
      ]
    }
  ],
  "metadata": {
    "colab": {
      "authorship_tag": "ABX9TyNVDbnOu5he7hft+U60uyxt",
      "collapsed_sections": [],
      "include_colab_link": true,
      "name": "exercicio3.ipynb",
      "provenance": []
    },
    "kernelspec": {
      "display_name": "Python 3.8.9 64-bit",
      "language": "python",
      "name": "python3"
    },
    "language_info": {
      "name": "python",
      "version": "3.8.9"
    },
    "vscode": {
      "interpreter": {
        "hash": "31f2aee4e71d21fbe5cf8b01ff0e069b9275f58929596ceb00d14d90e3e16cd6"
      }
    }
  },
  "nbformat": 4,
  "nbformat_minor": 0
}
