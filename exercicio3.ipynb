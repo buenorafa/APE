{
  "nbformat": 4,
  "nbformat_minor": 0,
  "metadata": {
    "colab": {
      "name": "exercicio3.ipynb",
      "provenance": [],
      "collapsed_sections": [],
      "authorship_tag": "ABX9TyM8J53NfpBsL6b/5C2BF5es",
      "include_colab_link": true
    },
    "kernelspec": {
      "name": "python3",
      "display_name": "Python 3"
    },
    "language_info": {
      "name": "python"
    }
  },
  "cells": [
    {
      "cell_type": "markdown",
      "metadata": {
        "id": "view-in-github",
        "colab_type": "text"
      },
      "source": [
        "<a href=\"https://colab.research.google.com/github/buenorafa/APE/blob/main/exercicio3.ipynb\" target=\"_parent\"><img src=\"https://colab.research.google.com/assets/colab-badge.svg\" alt=\"Open In Colab\"/></a>"
      ]
    },
    {
      "cell_type": "markdown",
      "source": [
        "# Lista de exercícios - Estruturas de decisão"
      ],
      "metadata": {
        "id": "ycaMmmLvmMke"
      }
    },
    {
      "cell_type": "markdown",
      "source": [
        "### 1. Escreva um programa que leia um número inteiro e determine se ele é par ou ímpar.\n",
        "\n",
        "\n"
      ],
      "metadata": {
        "id": "19aVZA_kmwqU"
      }
    },
    {
      "cell_type": "code",
      "source": [
        "num = int(input('Digite um numero inteiro: '))\n",
        "\n",
        "if(num % 2 == 0):\n",
        "    print(f'O numero {num} eh par')\n",
        "else:\n",
        "    print(f'O numero {num} eh impar')"
      ],
      "metadata": {
        "id": "Frf9VsWXm8xC"
      },
      "execution_count": null,
      "outputs": []
    },
    {
      "cell_type": "markdown",
      "source": [
        "### 2. Escreva um programa que leia dois números e exiba-os em ordem crescente."
      ],
      "metadata": {
        "id": "_EdpSzASnMSg"
      }
    },
    {
      "cell_type": "code",
      "source": [
        "num_1 = float(input('Digite o primeiro numero: '))\n",
        "num_2 = float(input('Digite o segundo numero: '))\n",
        "\n",
        "if(num_1 < num_2):\n",
        "    print(f'{num_1} {num_2}')\n",
        "else:\n",
        "    print(f'{num_2} {num_1}')"
      ],
      "metadata": {
        "id": "QtaVrH1mnYBm"
      },
      "execution_count": null,
      "outputs": []
    },
    {
      "cell_type": "markdown",
      "source": [
        "### 3. Escreva um programa que leia 3 números inteiros, determine e mostre o maior deles."
      ],
      "metadata": {
        "id": "iMFBAAQVndJc"
      }
    },
    {
      "cell_type": "code",
      "source": [
        "num_1 = int(input('Digite o primeiro numero inteiro: '))\n",
        "num_2 = int(input('Digite o segundo numero inteiro: '))\n",
        "num_3 = int(input('Digite o terceiro numero inteiro: '))\n",
        "maior_num = 0\n",
        "\n",
        "if(num_1 > num_2):\n",
        "    maior_num = num_1\n",
        "maior_num = num_2\n",
        "if(maior_num < num_3):\n",
        "    maior_num = num_3\n",
        "print(f'O maior numero eh: {maior_num}')"
      ],
      "metadata": {
        "id": "4B06c3XYnhJJ"
      },
      "execution_count": null,
      "outputs": []
    },
    {
      "cell_type": "markdown",
      "source": [
        "### 4. Escreva um programa que leia o nome e o sexo (M ou F) de uma pessoa e exiba a mensagem\n",
        "\"Olá, Sr. Fulano!\" ou \"Olá, Sra. Fulana!\", de acordo com o sexo da pessoa. Obs: Fulano e Fulana\n",
        "são nomes exemplos."
      ],
      "metadata": {
        "id": "3NGXYnGlnwil"
      }
    },
    {
      "cell_type": "code",
      "source": [
        "nome = input('Digite o seu nome: ')\n",
        "sexo = input('Se for mulher digite M, se for homem digite H: ')\n",
        "\n",
        "if(sexo == 'm' or sexo == 'M'):\n",
        "    print(f'Ola, Sra. {nome}')\n",
        "elif(sexo == 'h' or sexo == 'H'):\n",
        "    print(f'Ola, Sr. {nome}')"
      ],
      "metadata": {
        "id": "pkwz3E-kn6HE"
      },
      "execution_count": null,
      "outputs": []
    },
    {
      "cell_type": "markdown",
      "source": [
        "### 5. A empresa Vende Tudo Ltda paga o salário de cada vendedor com uma comissão de 5% sobre o\n",
        "\n",
        "total de vendas daquele vendedor, mas essa comissão nunca deve ser inferior ao salário-\n",
        "mínimo. Escreva um programa que leia o valor total das vendas de um vendedor e escreva seu\n",
        "\n",
        "salário."
      ],
      "metadata": {
        "id": "x_zCpv6Mn3XT"
      }
    },
    {
      "cell_type": "code",
      "source": [
        "t_vendas = float(input('Digite o valor total das vendas: '))\n",
        "S_MIN = 1200.00\n",
        "comissao = t_vendas * 0.05\n",
        "\n",
        "if(comissao <=  S_MIN):\n",
        "    print(f'O salario eh: R$ {S_MIN}')\n",
        "else: \n",
        "    print(f'O salario eh: R$ {comissao:.2f}')"
      ],
      "metadata": {
        "id": "VW9oT_YfoZ1x"
      },
      "execution_count": null,
      "outputs": []
    },
    {
      "cell_type": "markdown",
      "source": [
        "### 6. Recomendam-se estudantes para bolsas de estudo em função de seu desempenho.\n",
        "A natureza das recomendações é baseada na seguinte tabela:\n",
        "\n",
        "| Conceito | Recomendação           |\n",
        "|----------|------------------------|\n",
        "| A        | Fortemente recomendado |\n",
        "| B ou C   | Recomendado            |\n",
        "| D        | Não recomendado        |\n",
        "\n",
        "### Escreva um programa que leia o nome e o conceito de um estudante e exiba o nome do estudante e sua respectiva recomendação."
      ],
      "metadata": {
        "id": "dervEXs9ogl2"
      }
    },
    {
      "cell_type": "code",
      "source": [
        "nome = input('Digite o nome do aluno: ')\n",
        "conceito = input('Digite o conceito do aluno (A, B, C ou D): ')\n",
        "\n",
        "if(conceito == 'A'):\n",
        "    print(f'O aluno {nome} eh fortemente recomendado')\n",
        "elif(conceito == 'B' or conceito == 'C'):\n",
        "    print(f'O aluno {nome} eh recomendado')\n",
        "elif(conceito == 'D'):\n",
        "    print(f'O aluno {nome} nao eh recomendado')"
      ],
      "metadata": {
        "id": "UZG10H6pp4ho"
      },
      "execution_count": null,
      "outputs": []
    },
    {
      "cell_type": "markdown",
      "source": [
        "### 7. Escreva um programa que leia o peso (kg) e a altura (m) de uma pessoa, determine e mostre o seu grau de obesidade, de acordo com a tabela seguinte. O grau de obesidade é determinado pelo índice de massa corpórea, cujo cálculo é realizado dividindo-se o peso da pessoa pelo quadrado da sua altura.\n",
        "\n",
        "| Massa Corpórea | Grau de obesidade |\n",
        "|----------------|-------------------|\n",
        "| < 26           | Normal            |\n",
        "| <= 26 e < 30   | Obeso            |\n",
        "| >= 30           | Obeso mórbido         |\n"
      ],
      "metadata": {
        "id": "f65ScBP2rice"
      }
    },
    {
      "cell_type": "code",
      "source": [
        "peso = float(input('Digite o peso: '))\n",
        "altura = float(input('Digite a altura: '))\n",
        "imc = peso / (altura ** 2)\n",
        "\n",
        "if(imc < 26):\n",
        "    print('IMC: Normal')\n",
        "elif(imc >= 26 and imc < 30):\n",
        "    print('IMC: Obeso')\n",
        "elif(imc >= 30):\n",
        "    print('IMC: Obeso morbido')"
      ],
      "metadata": {
        "id": "LhZJn76psabP"
      },
      "execution_count": null,
      "outputs": []
    },
    {
      "cell_type": "markdown",
      "source": [
        "### 8. Escreva um programa que tenha a funcionalidade de uma calculadora simples. O programa deve solicitar a digitação de dois operandos e um operador (+ - x * / %) e deve imprimir ao resultado da operação aritmética. Caso o usuário digite um operador inválido, o programa deve imprimir \"Operador desconhecido\"."
      ],
      "metadata": {
        "id": "HeAMso6DsmrE"
      }
    },
    {
      "cell_type": "code",
      "source": [
        "num_1 = float(input('Digite o primeiro operando: '))\n",
        "num_2 = float(input('Digite o segundo operando: '))\n",
        "operador = input('Digite o operador (+ - * / %): ')\n",
        "\n",
        "if(operador == '+'):\n",
        "    print(f'{num_1} + {num_2} = {num_1 + num_2}')\n",
        "elif(operador == '-'):\n",
        "    print(f'{num_1} - {num_2} = {num_1 - num_2}')\n",
        "elif(operador == '*'):\n",
        "    print(f'{num_1} * {num_2} = {num_1 * num_2}')\n",
        "elif(operador == '/'):\n",
        "    print(f'{num_1} / {num_2} = {num_1 / num_2}')\n",
        "elif(operador == '%'):\n",
        "    print(f'{num_1} % {num_2} = {num_1 % num_2}')\n",
        "else: print('Operador desconhecido')"
      ],
      "metadata": {
        "id": "1uolA9tvssTD"
      },
      "execution_count": null,
      "outputs": []
    }
  ]
}