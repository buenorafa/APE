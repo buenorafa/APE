{
  "nbformat": 4,
  "nbformat_minor": 0,
  "metadata": {
    "colab": {
      "provenance": [],
      "collapsed_sections": [],
      "include_colab_link": true
    },
    "kernelspec": {
      "name": "python3",
      "display_name": "Python 3"
    },
    "language_info": {
      "name": "python"
    }
  },
  "cells": [
    {
      "cell_type": "markdown",
      "metadata": {
        "id": "view-in-github",
        "colab_type": "text"
      },
      "source": [
        "<a href=\"https://colab.research.google.com/github/buenorafa/APE/blob/main/exercicio9.ipynb\" target=\"_parent\"><img src=\"https://colab.research.google.com/assets/colab-badge.svg\" alt=\"Open In Colab\"/></a>"
      ]
    },
    {
      "cell_type": "markdown",
      "source": [
        "# LISTA DE EXERCÍCIOS: VETOR (COMPLEMENTAR)"
      ],
      "metadata": {
        "id": "s3nHB_yNTbKS"
      }
    },
    {
      "cell_type": "markdown",
      "source": [
        "### 1. Escreva um programa que leia um vetor contendo N elementos inteiros (N será lido), calcule e exiba:\n",
        "* A quantidade de elementos pares;\n",
        "* A quantidade de elementos ímpares;\n",
        "* A soma de todos os elementos;\n",
        "* A média dos elementos do vetor."
      ],
      "metadata": {
        "id": "pUWMky7gTaP6"
      }
    },
    {
      "cell_type": "code",
      "execution_count": null,
      "metadata": {
        "id": "mXHY8LtMTVnm"
      },
      "outputs": [],
      "source": [
        "n = int(input('Digite o valor de N: '))\n",
        "vetor = [None]*n\n",
        "pares = 0\n",
        "impares = 0\n",
        "soma = 0\n",
        "for i in range(n):\n",
        "    vetor[i] = int(input(f'Digite o V[{i}]: '))\n",
        "    soma += vetor[i]\n",
        "    if(vetor[i]%2 == 0):\n",
        "        pares += 1\n",
        "    else:\n",
        "        impares += 1\n",
        "media = soma/n\n",
        "\n",
        "print(f'Pares: {pares}\\n\\\n",
        "Impares: {impares}\\n\\\n",
        "Soma: {soma}\\n\\\n",
        "Media: {media}')"
      ]
    },
    {
      "cell_type": "markdown",
      "source": [
        "### 2. Dados dois vetores A e B contendo N elementos inteiros cada (N, A e B serão lidos), gerar e exibir um vetor C (de tamanho N*2) cujos elementos sejam a intercalação dos elementos de A e B.\n",
        "\n",
        "Ex: N = 3, A = [18, 12, 20], B = [15, 10, 7], C = [18, 15, 12, 10, 20, 7]"
      ],
      "metadata": {
        "id": "Ct_xf8itTcHp"
      }
    },
    {
      "cell_type": "code",
      "source": [
        "n = int(input('Digite o valor de N: '))\n",
        "vetor_a = [None]*n\n",
        "vetor_b = [None]*n\n",
        "vetor_c = [None]*n*2\n",
        "for i in range(n):\n",
        "    vetor_a[i] = int(input(f'Digite o valor de A[{i}]: '))\n",
        "    vetor_b[i] = int(input(f'Digite o valor de B[{i}]: '))\n",
        "\n",
        "for j in range(n):\n",
        "    vetor_c[j*2] = vetor_a[j]\n",
        "    vetor_c[j*2 + 1] = vetor_b[j]\n",
        "    \n",
        "print(vetor_c)"
      ],
      "metadata": {
        "id": "y4OtAdQuTrXM"
      },
      "execution_count": null,
      "outputs": []
    },
    {
      "cell_type": "markdown",
      "source": [
        "### 3. Escreva um programa para ler 6 números. Após a leitura dos números, verifique, para cada um deles, se é distinto, ou seja, não possui repetição."
      ],
      "metadata": {
        "id": "TVfU-au1gjIx"
      }
    },
    {
      "cell_type": "code",
      "source": [
        "import random \n",
        "#Inicia a lista e atribui numeros aleatórios a cada posição do vetor\n",
        "vetor = [None]*6\n",
        "for i in range(6):\n",
        "    vetor[i] = random.randint(1,10)\n",
        "print(vetor,'\\n')\n",
        "#Verficar se existe numeros repetidos\n",
        "for i in range(6):\n",
        "  repete = False\n",
        "  for j in range(6):\n",
        "    if (vetor[i] == vetor[j] and i != j):\n",
        "      repete = True\n",
        "      break\n",
        "  if repete:\n",
        "      print(f'{vetor[i]} repete')\n",
        "  else:\n",
        "      print(f'{vetor[i]} não repete')"
      ],
      "metadata": {
        "id": "UaOKzcRIgl0x"
      },
      "execution_count": null,
      "outputs": []
    },
    {
      "cell_type": "markdown",
      "source": [
        "### 4. Escreva um programa para ler 6 números distintos, ou seja, não podem repetir.\n",
        "Exiba os números lidos."
      ],
      "metadata": {
        "id": "ccNuJFJm2FHi"
      }
    },
    {
      "cell_type": "code",
      "source": [
        "vetor = [None]*6\n",
        "for i in range(6):\n",
        "    while True:\n",
        "        x = int(input('Digite um numero: ')) \n",
        "        existe = False\n",
        "        for j in range(i):\n",
        "            if(x == vetor[j]):\n",
        "                existe = True\n",
        "                break\n",
        "        if existe:\n",
        "            print('Numero já existente, digite outro numero!3')\n",
        "            continue\n",
        "        vetor[i] = x\n",
        "        break\n",
        "print(f'\\n Numeros válidos: {vetor}')"
      ],
      "metadata": {
        "id": "Rs_PUmgO2JwH"
      },
      "execution_count": null,
      "outputs": []
    },
    {
      "cell_type": "markdown",
      "source": [
        "### 5. Faça um programa para ler as 8 dezenas apostadas por 20 apostadores e verificar se a aposta é válida (cada dezena está entre [1, 80] e não pode haver repetição). O programa deverá calcular e exibir a quantidade de números acertados em cada aposta.\n",
        "Atenção! As dezenas sorteadas são: 06, 07, 13, 14 e 26."
      ],
      "metadata": {
        "id": "hVlabFy3AFQn"
      }
    },
    {
      "cell_type": "code",
      "source": [
        "sorteados = [6, 7, 13, 14, 26]\n",
        "n_apostadores = 3\n",
        "n_dezenas = 8\n",
        "aposta = [None]*n_dezenas\n",
        "for i in range(n_apostadores):\n",
        "    # Lendo a aposta\n",
        "    print(f'Dezenas do apostador {i + 1}: ')\n",
        "    for j in range(n_dezenas):\n",
        "        aposta[j] = int(input(f'{j+1}: '))\n",
        "    # Validação \n",
        "    valida = True\n",
        "    for k in range(n_dezenas):\n",
        "        # Verifica se está entre 1 e 80\n",
        "        if(aposta[k] < 1 or aposta[k] > 80):\n",
        "            valida = False\n",
        "            break\n",
        "        # Verifica se existe repetição\n",
        "        for l in range(n_dezenas):\n",
        "            if(aposta[k] == aposta[l] and k != l):\n",
        "                valida = False\n",
        "                break\n",
        "    # Se for valida, verifica o n de acertos\n",
        "    if valida:\n",
        "        cont = 0\n",
        "        for b in range(n_dezenas):\n",
        "            for a in sorteados:\n",
        "                if(aposta[b] == a):\n",
        "                    cont += 1\n",
        "                    break\n",
        "        print(f'Numero de acertos: {cont}\\n')\n",
        "    else:\n",
        "        print('Aposta inválida\\n')"
      ],
      "metadata": {
        "id": "JxFIPXdN_v32"
      },
      "execution_count": null,
      "outputs": []
    },
    {
      "cell_type": "markdown",
      "source": [
        "### 6. O Brasil possui 26 estados e 1 distrito federal, totalizando 27 unidades federativas. Escreva um programa para armazene, em um vetor, a sigla de todas as unidades federativas. O programa deverá obter de vários usuários qual é a unidade federativa ele acha mais interessante, informando a respectiva sigla. O programa encerra quando for digitada uma sigla inexistente. Ao final, o programa deverá exibir qual foi a sigla mais votada (considere possibilidade de empate)."
      ],
      "metadata": {
        "id": "UReZXbkiI6z4"
      }
    },
    {
      "cell_type": "code",
      "source": [
        "uf = ['AC','AL','AM','AP','BA','CE','DF','ES','GO','MA','MG','MS','MT','PA','PB','PE','PI','PR','RJ','RN','RO','RR','RS','SC','SE','SP','TO']\n",
        "n = len(uf)\n",
        "cont = [0]*n\n",
        "executa = True\n",
        "while executa:\n",
        "    voto = input('Digite o seu voto: ').upper()\n",
        "    # Procura o estado, se não existir ele sai do while\n",
        "    for i in range(n):\n",
        "      if(voto == uf[i]):\n",
        "          cont[i] += 1\n",
        "          break\n",
        "    else:\n",
        "        break\n",
        "# Procura o mais votado\n",
        "mais_votado = cont[0]\n",
        "for j in range(1,n):\n",
        "    if (cont[j] > mais_votado):\n",
        "        mais_votado = cont[j]\n",
        "# Exibe o mais votado\n",
        "for i in range(n):\n",
        "    if (cont[i] == mais_votado):\n",
        "        print(f'{uf[i]} com {cont[i]} votos')"
      ],
      "metadata": {
        "id": "KiitIchxJEVk"
      },
      "execution_count": null,
      "outputs": []
    }
  ]
}