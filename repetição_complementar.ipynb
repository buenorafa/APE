{
  "nbformat": 4,
  "nbformat_minor": 0,
  "metadata": {
    "colab": {
      "provenance": [],
      "authorship_tag": "ABX9TyM89+Fnh9MFLWOOzAyGuI16",
      "include_colab_link": true
    },
    "kernelspec": {
      "name": "python3",
      "display_name": "Python 3"
    },
    "language_info": {
      "name": "python"
    }
  },
  "cells": [
    {
      "cell_type": "markdown",
      "metadata": {
        "id": "view-in-github",
        "colab_type": "text"
      },
      "source": [
        "<a href=\"https://colab.research.google.com/github/buenorafa/APE/blob/main/repeti%C3%A7%C3%A3o_complementar.ipynb\" target=\"_parent\"><img src=\"https://colab.research.google.com/assets/colab-badge.svg\" alt=\"Open In Colab\"/></a>"
      ]
    },
    {
      "cell_type": "markdown",
      "source": [
        "# LISTA DE EXERCÍCIOS: ESTRUTURAS DE REPETIÇÃO (COMPLEMENTAR)"
      ],
      "metadata": {
        "id": "y3vlfXPaBY94"
      }
    },
    {
      "cell_type": "markdown",
      "source": [
        "### 1. Faça um programa que leia um número N, calcule e mostre os N primeiros termos da sequência de Fibonacci (0, 1, 1, 2, 3, 5, 8, 13, ...). O valor lido para N sempre será maior ou igual a 2."
      ],
      "metadata": {
        "id": "8dRAkgcrBeKL"
      }
    },
    {
      "cell_type": "code",
      "source": [
        "num = int(input('Digite um numero inteiro maior ou igual a 2: '))\n",
        "while(num < 2):\n",
        "    num = int(input('Numero invalido, digite um numero MAIOR ou IGUAL a 2: '))\n",
        "a = 0\n",
        "b = 1\n",
        "print(f'\\nFibonacci: {a} {b}', end=' ')\n",
        "for i in range(num-2):\n",
        "    c = a + b\n",
        "    print(c, end=' ')\n",
        "    a = b\n",
        "    b = c"
      ],
      "metadata": {
        "id": "PA06lHSuBsDQ"
      },
      "execution_count": null,
      "outputs": []
    },
    {
      "cell_type": "markdown",
      "source": [
        "### 2. Um número é, por definição, primo se ele não tem divisores, exceto 1 e ele próprio. Faça um programa que mostre todos os números primos de 1 a N (obs: N será lido). "
      ],
      "metadata": {
        "id": "1PDBw5eNBuKM"
      }
    },
    {
      "cell_type": "code",
      "source": [
        "num = int(input('Digite um numero inteiro: '))\n",
        "for i in range(2, num+1):\n",
        "    primo = True\n",
        "    for n in range(2, i-1):\n",
        "        if(i%n == 0):\n",
        "            primo = False\n",
        "            break\n",
        "    if(primo):\n",
        "        print(i, end=' ')"
      ],
      "metadata": {
        "id": "DhTmbzmqB4ED"
      },
      "execution_count": null,
      "outputs": []
    },
    {
      "cell_type": "markdown",
      "source": [
        "### 3. O algoritmo de Euclides para determinar o MDC entre dois números inteiros consiste em formar uma sequência de inteiros cujos dois primeiros elementos são os números dados. Cada elemento seguinte é o resto da divisão dos dois anteriores. A sequência terminará quando um elemento dela for nulo. O MDC entre os números dados é o elemento anterior ao zero. Faça uma implementação deste programa.\n",
        "\n",
        "Ex: Dados os números 12 e 15, será formada a sequência: 12, 15, 12, 3, 0 e o\n",
        "MDC entre 12 e 15 é 3."
      ],
      "metadata": {
        "id": "Zg9yIdR3B4Tr"
      }
    },
    {
      "cell_type": "code",
      "source": [
        "num_1 = int(input('Digite o 1º numero: '))\n",
        "num_2 = int(input('Digite o 2º numero: '))\n",
        "mdc = 0\n",
        "print(f'\\nSequência: {num_1} {num_2}', end=' ')\n",
        "while True:\n",
        "    aux = num_1 % num_2\n",
        "    print(aux, end=' ')\n",
        "    if(aux == 0):\n",
        "        mdc = num_2\n",
        "        break\n",
        "    num_1 = num_2\n",
        "    num_2 = aux\n",
        "print(f'\\nMDC: {mdc}')"
      ],
      "metadata": {
        "id": "v83pkbJMCBQV"
      },
      "execution_count": null,
      "outputs": []
    },
    {
      "cell_type": "markdown",
      "source": [
        "### 4. Um dado material radioativo perde metade de sua massa a cada 50 segundos. Faça um programa que leia uma certa quantidade de massa, em gramas, deste material e imprima o tempo necessário para que sua massa se torne menor que 0.5g."
      ],
      "metadata": {
        "id": "Es6ph2oKCB8o"
      }
    },
    {
      "cell_type": "code",
      "source": [
        "massa = float(input('Digite a massa do elemento em grams: '))\n",
        "cont = 0\n",
        "while massa >= 0.5:\n",
        "    massa /= 2\n",
        "    cont += 50\n",
        "print(f'Tempo: {cont}s')"
      ],
      "metadata": {
        "id": "LIEwjCsqCHGl"
      },
      "execution_count": null,
      "outputs": []
    },
    {
      "cell_type": "markdown",
      "source": [
        "### 5. Faça um programa que, leia a temperatura dos 30 dias do mês de abril diga qual o dia mais quente e o dia mais frio do mês (obs: suponha que não hajaempates)."
      ],
      "metadata": {
        "id": "k9l3974hCI4z"
      }
    },
    {
      "cell_type": "code",
      "source": [
        "maior_temp = -1000\n",
        "menor_temp = 1000\n",
        "d_maior = 0\n",
        "d_menor = 0\n",
        "for i in range(1, 31):\n",
        "    temp = float(input(f'Digite a temperatura do dia {i}/4: '))\n",
        "    if(temp > maior_temp):\n",
        "        maior_temp = temp\n",
        "        d_maior = i\n",
        "    if(temp < menor_temp):\n",
        "        menor_temp = temp\n",
        "        d_menor = i\n",
        "print(f'Dia mais quente: {d_maior}/4\\n\\\n",
        "Dia mais frio: {d_menor}/4')"
      ],
      "metadata": {
        "id": "wagNNFSHCNBA"
      },
      "execution_count": null,
      "outputs": []
    },
    {
      "cell_type": "markdown",
      "source": [
        "### 6. Faça um programa que solicite ao usuário uma senha. Caso a senha digitada esteja correta, o programa deverá mostrar senha correta. Caso contrário, o programa deverá mostrar senha incorreta e pedir para o usuário tentar novamente digitar a senha correta. Mas, se o usuário fornecer três senhas incorretas, o programa deverá encerrar a sua execução. (Obs: a senha correta é “abcd”)."
      ],
      "metadata": {
        "id": "Um8TL6qmCNh0"
      }
    },
    {
      "cell_type": "code",
      "source": [
        "SENHA = 'abcd'\n",
        "mensagem = 'Senha incorreta!'\n",
        "cont = 3\n",
        "user = input('Digite a senha: ')\n",
        "while(cont > 1 and user != SENHA):\n",
        "    cont -= 1\n",
        "    print(mensagem)\n",
        "    user = input(f'Digite a senha novamente (Você tem {cont} tentativas): ')\n",
        "    if(user == SENHA):\n",
        "        break\n",
        "if(user == SENHA):\n",
        "    mensagem = 'Senha correta!'\n",
        "print(mensagem)\n",
        "print('\\nPrograma encerrado.')"
      ],
      "metadata": {
        "id": "H7ZsK9UtCXEP"
      },
      "execution_count": null,
      "outputs": []
    },
    {
      "cell_type": "markdown",
      "source": [
        "### 7. Uma certa empresa pretende verificar se os seus empregados estarão qualificados ou não para aposentadoria em 2022. Para estar em condições, um dos seguintes requisitos deve ser satisfeito:\n",
        "* Ter no mínimo 65 anos de idade; ou\n",
        "* Ter trabalhado no mínimo 30 anos; ou\n",
        "* Ter no mínimo 60 anos e ter trabalhado no mínimo 25 anos.\n",
        "Com base nas informações acima, faça um programa para:\n",
        "* Ler o nome do empregado, o ano de nascimento e o ano de seu ingresso\n",
        "na empresa.\n",
        "* Calcular e exibir a idade e o tempo de trabalho do empregado (estimado\n",
        "ao final de 2021)\n",
        "* Exibir a mensagem “Pode Requerer Aposentadoria” se atender aos\n",
        "requisitos ou “Não Pode Requerer Aposentadoria” caso contrário.\n",
        "### Ao final de cada execução, o programa deverá perguntar se o usuário deseja fazer nova verificação. Se sim, o programa deverá repetir tudo novamente, caso contrário deverá encerrar."
      ],
      "metadata": {
        "id": "uF4ualWDCXnI"
      }
    },
    {
      "cell_type": "code",
      "source": [
        "executa = True\n",
        "while(executa):\n",
        "    nome = input('Digite o nome do usuário: ')\n",
        "    nascimento = int(input('Digite o ano de nascimento: '))\n",
        "    ingresso = int(input('Digite o ano de ingresso na empresa: '))\n",
        "    idade = 2021 - nascimento\n",
        "    anos_trabalho = 2021 - ingresso\n",
        "    requisito = False\n",
        "    if(idade >= 65):\n",
        "        requisito = True\n",
        "    elif(anos_trabalho >= 30):\n",
        "        requisito = True\n",
        "    elif(idade >= 60 and anos_trabalho >= 25):\n",
        "        requisito = True\n",
        "    mensagem = 'Não pode requerer aposentadoria'\n",
        "    if(requisito):\n",
        "        mensagem = 'Pode requerer aposentadoria'\n",
        "    print(f'Nome: {nome}\\n\\\n",
        "    Idade: {idade}\\n\\\n",
        "    Contribuição: {anos_trabalho} anos\\n\\\n",
        "    Resultado: {mensagem}\\n')\n",
        "    continua = input('Deseja fazer uma nova verificação? (S/N) ').upper()\n",
        "    if(continua == 'N'):\n",
        "        executa = False\n",
        "print('\\nPrograma encerrado')"
      ],
      "metadata": {
        "id": "x_8Q9uInCuzz"
      },
      "execution_count": null,
      "outputs": []
    },
    {
      "cell_type": "markdown",
      "source": [
        "### 8. Faça um programa que acompanhe um set de uma partida de vôlei. O programa deve ler o código da equipe (A ou B) que ganhou o ponto e responder quem ganha a partida. O set chega ao final se uma das equipes chega a 25 pontos e a diferença de pontos entre elas é maior ou igual a dois. A equipe que conseguir isso é a vencedora do set."
      ],
      "metadata": {
        "id": "Gpfq1lgBCzn7"
      }
    },
    {
      "cell_type": "code",
      "source": [
        "equipe_a = 0\n",
        "equipe_b = 0\n",
        "vecendores = ''\n",
        "partida = True\n",
        "while(partida):\n",
        "    ponto = input('Digite a equipe que marcou ponto (A ou B): ').upper()\n",
        "    if(ponto == 'A'):\n",
        "        equipe_a += 1\n",
        "    if(ponto == 'B'):\n",
        "        equipe_b += 1\n",
        "    if(equipe_a >= 25 and equipe_a - equipe_b >= 2):\n",
        "        vencedores = 'Equipe A'\n",
        "        break\n",
        "    if(equipe_b >= 25 and equipe_b - equipe_a >= 2):\n",
        "        vencedores = 'Equipe B'\n",
        "        break\n",
        "print(f'EA {equipe_a} X {equipe_b} EB\\n\\\n",
        "Vecedores: {vencedores}')"
      ],
      "metadata": {
        "id": "OvRUY1DOC4ue"
      },
      "execution_count": null,
      "outputs": []
    }
  ]
}