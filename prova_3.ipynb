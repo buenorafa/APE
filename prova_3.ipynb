{
  "nbformat": 4,
  "nbformat_minor": 0,
  "metadata": {
    "colab": {
      "provenance": [],
      "authorship_tag": "ABX9TyMTYt9Lg44S/rCLRiouZZVK",
      "include_colab_link": true
    },
    "kernelspec": {
      "name": "python3",
      "display_name": "Python 3"
    },
    "language_info": {
      "name": "python"
    }
  },
  "cells": [
    {
      "cell_type": "markdown",
      "metadata": {
        "id": "view-in-github",
        "colab_type": "text"
      },
      "source": [
        "<a href=\"https://colab.research.google.com/github/buenorafa/APE/blob/main/prova_3.ipynb\" target=\"_parent\"><img src=\"https://colab.research.google.com/assets/colab-badge.svg\" alt=\"Open In Colab\"/></a>"
      ]
    },
    {
      "cell_type": "markdown",
      "source": [
        "# Prova 3 de APE "
      ],
      "metadata": {
        "id": "opblz7v0ESpv"
      }
    },
    {
      "cell_type": "markdown",
      "source": [
        "### 1) Receber um nome completo e criar um login, seguindo o modelo abaixo: \n",
        "Entrada:     \n",
        "Nome: Rafael Limeira de Castro Bueno     \n",
        "Saída:     \n",
        "Login: rafael.bueno"
      ],
      "metadata": {
        "id": "z9OqU0jw0DW_"
      }
    },
    {
      "cell_type": "code",
      "execution_count": null,
      "metadata": {
        "id": "YC9GtcfM0Cl_"
      },
      "outputs": [],
      "source": [
        "nome = input('Digite o nome: ').lower()\n",
        "nome = nome.split(' ')\n",
        "login = nome[0] + '.' + nome[-1]\n",
        "print(login)"
      ]
    },
    {
      "cell_type": "markdown",
      "source": [
        "### 2) Receber uma data no formato DD/MM/AAAA e retornar a data formatada:\n",
        "\n",
        "Ex.:      \n",
        "Entrada: 22/09/1999         \n",
        "Saída: 22 de setembro de 1999\n",
        "\n"
      ],
      "metadata": {
        "id": "hMlGtdnb4HhB"
      }
    },
    {
      "cell_type": "code",
      "source": [
        "def encontra_mes(num):\n",
        "  meses = ['janeiro', 'fevereiro', 'março', 'abril', 'maio', 'junho',\\\n",
        "           'julho', 'agosto', 'setembro', 'outubro', 'novembro', 'dezembro']\n",
        "  i = int(num) - 1\n",
        "  return meses[i]\n",
        "entrada = input('DD/MM/AAAA: ')\n",
        "entrada = entrada.split('/')\n",
        "saida = entrada[0] + ' de ' + encontra_mes(entrada[1]) + ' de ' + entrada[2]\n",
        "print(saida)\n"
      ],
      "metadata": {
        "colab": {
          "base_uri": "https://localhost:8080/"
        },
        "id": "HIMV-5QI4Jwk",
        "outputId": "1ddb7191-55ea-471c-e624-197770283d8d"
      },
      "execution_count": null,
      "outputs": [
        {
          "output_type": "stream",
          "name": "stdout",
          "text": [
            "DD/MM/AAAA: 22/09/1999\n",
            "22 de setembro de 1999\n"
          ]
        }
      ]
    },
    {
      "cell_type": "markdown",
      "source": [
        "### 3) A obesidade ocorre quando o imc é superior a 26, escreva uma função que retorne True se for obeso ou false caso contrário. E o programa principal deve receber peso e altura de várias pessoas e calcular o percentual de obesos no grupo. (P/ encerrar o programa, deve-se digitar 0 no peso)\n",
        "\n"
      ],
      "metadata": {
        "id": "6Bo0Yvzx5U3a"
      }
    },
    {
      "cell_type": "code",
      "source": [
        "def obeso(peso, alt):\n",
        "  imc = peso/(alt*alt)\n",
        "  return imc > 26\n",
        "\n",
        "cont = 0\n",
        "obesos = 0\n",
        "while True:\n",
        "  peso = float(input('Peso (Ou 0 p/ sair): '))\n",
        "  if peso == 0:\n",
        "    break\n",
        "  altura = float(input('Altura: '))\n",
        "  cont += 1\n",
        "  if obeso(peso, altura):\n",
        "    obesos += 1\n",
        "\n",
        "percent = (obesos/cont)*100\n",
        "print(f'Percentual de obesos: {percent:.2f}%')"
      ],
      "metadata": {
        "id": "3T3eIhAv5-sB"
      },
      "execution_count": null,
      "outputs": []
    }
  ]
}