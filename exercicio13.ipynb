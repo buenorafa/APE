{
  "nbformat": 4,
  "nbformat_minor": 0,
  "metadata": {
    "colab": {
      "provenance": [],
      "authorship_tag": "ABX9TyOBWnFd8x74fSUCiCLOz2U0",
      "include_colab_link": true
    },
    "kernelspec": {
      "name": "python3",
      "display_name": "Python 3"
    },
    "language_info": {
      "name": "python"
    }
  },
  "cells": [
    {
      "cell_type": "markdown",
      "metadata": {
        "id": "view-in-github",
        "colab_type": "text"
      },
      "source": [
        "<a href=\"https://colab.research.google.com/github/buenorafa/APE/blob/main/exercicio13.ipynb\" target=\"_parent\"><img src=\"https://colab.research.google.com/assets/colab-badge.svg\" alt=\"Open In Colab\"/></a>"
      ]
    },
    {
      "cell_type": "markdown",
      "source": [
        "# LISTA DE EXERCÍCIOS: STRINGS (COMPLEMENTAR)"
      ],
      "metadata": {
        "id": "IuuhcRsgWswN"
      }
    },
    {
      "cell_type": "markdown",
      "source": [
        "### 1. Faça um programa que leia o email de uma pessoa e mostre, separadamente, qual o login e qual o domínio. Por exemplo, suponha que o email seja \"fulano@provedor.com.br\", então o login será \"fulano\" e o domínio será \"provedor.com.br\"."
      ],
      "metadata": {
        "id": "9jm0i-PWWuSX"
      }
    },
    {
      "cell_type": "code",
      "execution_count": 9,
      "metadata": {
        "id": "MJ1Y-HRXQSib",
        "colab": {
          "base_uri": "https://localhost:8080/"
        },
        "outputId": "8539955d-0cf0-4000-f0de-ed410707a106"
      },
      "outputs": [
        {
          "output_type": "stream",
          "name": "stdout",
          "text": [
            "E-mail: rafael@gmail.com\n",
            "Login: rafael\n",
            "Provedor: gmail.com\n"
          ]
        }
      ],
      "source": [
        "# Sem utilizar funções: \n",
        "\n",
        "email = input('E-mail: ')\n",
        "n = len(email)\n",
        "aux = None\n",
        "#Encontra o indice do '@'\n",
        "for i in range(n):\n",
        "  if email[i] == '@':\n",
        "    aux = i\n",
        "#Encontra o login e provedor\n",
        "login = ''\n",
        "provedor = ''\n",
        "for j in range(n):\n",
        "  if j < aux:\n",
        "    login += email[j]\n",
        "  if j > aux:\n",
        "    provedor += email[j]\n",
        "print(f'Login: {login}\\n\\\n",
        "Provedor: {provedor}')"
      ]
    },
    {
      "cell_type": "code",
      "source": [
        "# Função split\n",
        "\n",
        "email = input('E-mail: ')\n",
        "# A função split transforma a string em uma lista utilizando o parâmetro como separador.\n",
        "email = email.split('@')\n",
        "# Resultando na lista: email = ['rafael', 'gmail.com']\n",
        "login = email[0]\n",
        "provedor = email[1]\n",
        "print(f'Login: {login}\\n\\\n",
        "Provedor: {provedor}')"
      ],
      "metadata": {
        "colab": {
          "base_uri": "https://localhost:8080/"
        },
        "id": "WXiGRvoCI8FA",
        "outputId": "a379ca05-d1c6-4559-c583-2ee0f13e58b4"
      },
      "execution_count": 11,
      "outputs": [
        {
          "output_type": "stream",
          "name": "stdout",
          "text": [
            "E-mail: rafael@gmail.com\n",
            "Login: rafael\n",
            "Provedor: gmail.com\n"
          ]
        }
      ]
    },
    {
      "cell_type": "markdown",
      "source": [
        "### 2. Faça um programa que leia uma frase e a exiba criptografada. O método de criptografia será baseado na seguinte regra: trocar alguns caracteres por outros, conforme a tabela abaixo:\n",
        "\n",
        "CARACTER ORIGINAL | CARACTER CRIPTOGRAFADO\n",
        "------------------|-----------------\n",
        "A | Branco\n",
        "E | U\n",
        "I | O\n",
        "O | I\n",
        "U | E\n",
        "Branco | A\n",
        "\n",
        "Exemplo: \"BOA NOITE\" criptografado fica \"BI ANIOTU\""
      ],
      "metadata": {
        "id": "7cw8MKN7W5QH"
      }
    },
    {
      "cell_type": "code",
      "source": [
        "# Sem utilizar função\n",
        "frase = input('Digite a frase: ').upper()\n",
        "n = len(frase)\n",
        "cripto = ''\n",
        "for i in range(n):\n",
        "  if frase[i] == 'A':\n",
        "    cripto += ' '\n",
        "  elif frase[i] == 'E':\n",
        "    cripto += 'U' \n",
        "  elif frase[i] == 'I':\n",
        "    cripto += 'O'\n",
        "  elif frase[i] == 'O':\n",
        "    cripto += 'I'\n",
        "  elif frase[i] == 'U':\n",
        "    cripto += 'E'\n",
        "  elif frase[i] == ' ':\n",
        "    cripto += 'A'\n",
        "  else:\n",
        "    cripto += frase[i]\n",
        "\n",
        "print(f'\\nFrase: {frase}')\n",
        "print(f'Criptografada: {cripto}')"
      ],
      "metadata": {
        "colab": {
          "base_uri": "https://localhost:8080/"
        },
        "id": "08XWgDjgXnTF",
        "outputId": "ac0524ef-57bd-4209-a45a-3f7265f05402"
      },
      "execution_count": 14,
      "outputs": [
        {
          "output_type": "stream",
          "name": "stdout",
          "text": [
            "Digite a frase: Boa noite\n",
            "\n",
            "Frase: BOA NOITE\n",
            "Criptografada: BI ANIOTU\n"
          ]
        }
      ]
    },
    {
      "cell_type": "code",
      "source": [
        "# Função find\n",
        "frase = input('Digite a frase: ').upper()\n",
        "orig = 'AEIOU '\n",
        "cripto = ' UOIEA'\n",
        "frase_cripto = ''\n",
        "aux = 0\n",
        "for i in frase:\n",
        "  # A função find retorna o indice da primeira ocorrência em uma string\n",
        "  # Neste caso a variável aux vai receber o indice da primeira ocorrência de i em orig, caso não exista ele recebe -1\n",
        "  aux = orig.find(i)\n",
        "  # Aqui a frase_cripto recebe a letra correspondente na string cripto, caso não exista recebe i\n",
        "  if aux >= 0:\n",
        "    frase_cripto += cripto[aux]\n",
        "  else:\n",
        "    frase_cripto += i\n",
        "\n",
        "print(f'\\nFrase: {frase}')\n",
        "print(f'Criptografada: {frase_cripto}')"
      ],
      "metadata": {
        "colab": {
          "base_uri": "https://localhost:8080/"
        },
        "id": "d1f9cQ8VMqTB",
        "outputId": "7f209577-5f71-4628-858b-74c12e7e3457"
      },
      "execution_count": 20,
      "outputs": [
        {
          "output_type": "stream",
          "name": "stdout",
          "text": [
            "Digite a frase: boa noite\n",
            "\n",
            "Frase: BOA NOITE\n",
            "Criptografada: BI ANIOTU\n"
          ]
        }
      ]
    },
    {
      "cell_type": "markdown",
      "source": [
        "### 3. Faça um programa que leia o nome de uma pessoa e exiba-o conforme o exemplo abaixo.\n",
        "\n",
        "Obs: Suponha que o nome lido não possua nenhuma preposição, artigo, etc.     \n",
        "    \n",
        "Exemplo:     \n",
        "Entrada: FLAVIO RIBEIRO COUTINHO    \n",
        "Saída: COUTINHO, F. R."
      ],
      "metadata": {
        "id": "zypyot9sXn0r"
      }
    },
    {
      "cell_type": "code",
      "source": [
        "# Utilizando a função split\n",
        "nome = input('Nome completo: ').title()\n",
        "# a variável nome vira uma lista com cada espaço branco separando os elementos\n",
        "nome = nome.split(' ')\n",
        "# Tamanho da lista\n",
        "n = len(nome)\n",
        "# Printa o último elemento da lista\n",
        "print(f'{nome[n-1]}, ', end='')\n",
        "# Printa a primeira letra seguida do '.' dos elementos restantes\n",
        "for i in range(n-1):\n",
        "  print(nome[i][0] + '.', end=' ')"
      ],
      "metadata": {
        "id": "tKTsEPqIXxDk"
      },
      "execution_count": null,
      "outputs": []
    },
    {
      "cell_type": "markdown",
      "source": [
        "### 4. Faça um programa que leia uma string S e um valor inteiro N, e exiba na tela a string S com as suas vogais repetidas N vezes.\n",
        "\n",
        "Exemplo:     \n",
        "Entrada: S: Hoje tem aula de Python   \n",
        "     \n",
        "N: 3        \n",
        "     \n",
        "Saída: Hooojeee teeem aaauuulaaa deee Pythooon    "
      ],
      "metadata": {
        "id": "YNr_GWGBX9fd"
      }
    },
    {
      "cell_type": "code",
      "source": [
        "# Função count\n",
        "frase = input('Digite a frase: ')\n",
        "n = int(input('Digite N: '))\n",
        "vogais = 'aAeEiIoOuU'\n",
        "saida = ''\n",
        "for i in frase:\n",
        "  if vogais.count(i) > 0:\n",
        "    saida = saida + i*n\n",
        "  else:\n",
        "    saida += i \n",
        "print(saida)"
      ],
      "metadata": {
        "id": "pCgh8fMsYLk6"
      },
      "execution_count": null,
      "outputs": []
    },
    {
      "cell_type": "markdown",
      "source": [
        "### 5. Faça um programa que leia uma frase e a exiba na tela conforme o exemplo abaixo.     \n",
        "     \n",
        "Exemplo:\n",
        "          \n",
        "Entrada: ABCDE     \n",
        "     \n",
        "Saída:     \n",
        "A     \n",
        "BB     \n",
        "CCC     \n",
        "DDDD     \n",
        "EEEEEE     \n",
        "DDDD     \n",
        "CCC     \n",
        "BB     \n",
        "A     \n"
      ],
      "metadata": {
        "id": "Lq3QTJWJYOWM"
      }
    },
    {
      "cell_type": "code",
      "source": [
        "entrada = input('Entrada: ').upper()\n",
        "n = len(entrada)\n",
        "# Printa a primera parte\n",
        "for i in range(n):\n",
        "  saida = entrada[i]*i + entrada[i]\n",
        "  print(saida)\n",
        "# Printando a segunda parte:\n",
        "# Neste caso a função range está indo do penúltimo elemento até o primeiro elemento \n",
        "# Funciona da seguinte forma: range(início, fim, incremento)\n",
        "# Começa em n-2: Penúltimo elemento\n",
        "# Termina em -1: Para printar o elemento 0\n",
        "# E o incremento a cada iteração do laço é -1\n",
        "for i in range(n-2, -1, -1):\n",
        "  saida = entrada[i]*i + entrada[i]\n",
        "  print(saida)"
      ],
      "metadata": {
        "colab": {
          "base_uri": "https://localhost:8080/"
        },
        "id": "x9M6mxYkYjYX",
        "outputId": "95ce97f7-bc81-4f03-ca3e-930ef0a0cae2"
      },
      "execution_count": 38,
      "outputs": [
        {
          "output_type": "stream",
          "name": "stdout",
          "text": [
            "Entrada: abcd\n",
            "A\n",
            "BB\n",
            "CCC\n",
            "DDDD\n",
            "CCC\n",
            "BB\n",
            "A\n"
          ]
        }
      ]
    }
  ]
}