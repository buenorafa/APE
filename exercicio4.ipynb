{
  "nbformat": 4,
  "nbformat_minor": 0,
  "metadata": {
    "colab": {
      "provenance": [],
      "collapsed_sections": [],
      "authorship_tag": "ABX9TyOQOBKzD9hXO3CX6TQviqoM",
      "include_colab_link": true
    },
    "kernelspec": {
      "name": "python3",
      "display_name": "Python 3"
    },
    "language_info": {
      "name": "python"
    }
  },
  "cells": [
    {
      "cell_type": "markdown",
      "metadata": {
        "id": "view-in-github",
        "colab_type": "text"
      },
      "source": [
        "<a href=\"https://colab.research.google.com/github/buenorafa/APE/blob/main/exercicio4.ipynb\" target=\"_parent\"><img src=\"https://colab.research.google.com/assets/colab-badge.svg\" alt=\"Open In Colab\"/></a>"
      ]
    },
    {
      "cell_type": "markdown",
      "source": [
        "# LISTA DE EXERCÍCIOS – ESTRUTURA DE DECISÃO (COMPLEMENTAR)"
      ],
      "metadata": {
        "id": "9O8_l3h8Yx09"
      }
    },
    {
      "cell_type": "markdown",
      "source": [],
      "metadata": {
        "id": "f6PWlfN3Y2Xy"
      }
    },
    {
      "cell_type": "markdown",
      "source": [
        "### 1. Escreva um programa que solicite a digitação de um número (de 1 a 7) correspondente a um dia da semana e imprima o nome do dia da semana e se é dia útil (de segunda a sexta) ou final de semana (sábado e domingo). Considere que o dia 1 é o domingo."
      ],
      "metadata": {
        "id": "PEDRDq3kY7qR"
      }
    },
    {
      "cell_type": "code",
      "source": [
        "dia = int(input('Digite o dia da semana (De 1 a 7): '))\n",
        "\n",
        "if(dia == 1):\n",
        "    print('Final de semana\\nDomingo')\n",
        "elif(dia == 2):\n",
        "    print('Dia util\\nSegunda-feira')\n",
        "elif(dia == 3):\n",
        "    print('Dia util\\nTerca-feira')\n",
        "elif(dia == 4):\n",
        "    print('Dia util\\nQuarta-feira')\n",
        "elif(dia == 5):\n",
        "    print('Dia util\\nQuinta-feira')\n",
        "elif(dia == 6):\n",
        "    print('Dia util\\nSexta-feira')\n",
        "elif(dia == 7):\n",
        "    print('Final de semana\\nSábado')"
      ],
      "metadata": {
        "id": "6rF_TEEEZAUe"
      },
      "execution_count": null,
      "outputs": []
    },
    {
      "cell_type": "markdown",
      "source": [
        "### 2. Escreva um programa que solicite a digitação de um caractere qualquer do teclado e imprima sua classificação: vogal, consoante, número e caractere especial."
      ],
      "metadata": {
        "id": "DxJ3S4LiZIpC"
      }
    },
    {
      "cell_type": "code",
      "source": [
        "# SOLUÇÃO UTILIZANDO REGEX\n",
        "import re \n",
        "\n",
        "char = input('Digite um caractere: ')\n",
        "\n",
        "if(re.search('[a-zA-Z]', char)):\n",
        "    if(re.search('[aeiou]', char)):\n",
        "        print('Vogal')\n",
        "    else:\n",
        "        print('Consoante')\n",
        "elif(re.search('[0-9]', char)):\n",
        "    print('Numero')\n",
        "else:\n",
        "    print('Caractere especial')"
      ],
      "metadata": {
        "id": "cKZWbcg8ZMvO",
        "colab": {
          "base_uri": "https://localhost:8080/"
        },
        "outputId": "ba771fc8-5248-4938-fa68-7999b0931e63"
      },
      "execution_count": 2,
      "outputs": [
        {
          "output_type": "stream",
          "name": "stdout",
          "text": [
            "Digite um caractere: a\n",
            "Vogal\n"
          ]
        }
      ]
    },
    {
      "cell_type": "markdown",
      "source": [
        "### 3. Escreva um programa que solicite a digitação de um ano e imprima sua classificação como bissexto ou não bissexto. Obs: um ano é bissexto se for divisível por 4, mas não por 100. Um ano também é bissexto se for divisível por 400."
      ],
      "metadata": {
        "id": "SpClHDfzZZIc"
      }
    },
    {
      "cell_type": "code",
      "source": [
        "ano =  int(input('Digite o ano: '))\n",
        "\n",
        "if(ano % 4 == 0):\n",
        "    if(ano % 100 != 0):\n",
        "        print('Bissexto')\n",
        "    elif(ano % 100 == 0):\n",
        "        if(ano % 400 == 0):\n",
        "            print('Bissexto')\n",
        "        else:\n",
        "            print('Nao eh bissexto')\n",
        "else:\n",
        "    print('Nao eh bissexto')"
      ],
      "metadata": {
        "id": "mw732jGiZeOA"
      },
      "execution_count": null,
      "outputs": []
    },
    {
      "cell_type": "markdown",
      "source": [
        "### 4. Escreva um programa que leia a hora de início de um jogo e a hora do final do jogo (considerando apenas horas inteiras), calcula a duração do jogo em horas, sabendo-se que o tempo máximo de duração do jogo é de 24 horas e que o jogo pode iniciar em um dia e terminar no dia seguinte. O programa deve mostrar o resultado obtido."
      ],
      "metadata": {
        "id": "ZpT_9SHPZn6Q"
      }
    },
    {
      "cell_type": "code",
      "source": [
        "h_inicial = int(input('Digite a hora de inicio: '))\n",
        "h_final = int(input('Digite a hora do final: '))\n",
        "\n",
        "if(h_inicial < h_final):\n",
        "    print(f'Duracao: {h_final - h_inicial}h')\n",
        "elif(h_inicial == h_final):\n",
        "    print('Duracao: 24h')\n",
        "else:\n",
        "    print(f'Duracao: {(24 - h_inicial) + h_final}h')"
      ],
      "metadata": {
        "id": "JEEzmPtdZr1K"
      },
      "execution_count": null,
      "outputs": []
    },
    {
      "cell_type": "markdown",
      "source": [
        "### 5. Escreva um programa para determinar as raízes de uma equação de segundo grau, dados os seus coeficientes. Fórmulas:\n",
        "\n",
        "![download.png](data:image/png;base64,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)\n",
        "\n",
        "#### Obs: se Δ for negativo, não existem as raízes da equação. \n",
        "#### Dica: use a função sqrt do módulo math.\n",
        "\n",
        "\n",
        "\n"
      ],
      "metadata": {
        "id": "OKSSkN-hZwSv"
      }
    },
    {
      "cell_type": "code",
      "source": [
        "import math\n",
        "\n",
        "a = float(input('Digite o valor de a: '))\n",
        "b = float(input('Digite o valor de b: '))\n",
        "c = float(input('Digite o valor de c: '))\n",
        "\n",
        "delta = b**2 - 4*a*c\n",
        "\n",
        "x_1 = (-b + math.sqrt(delta))/ 2*a\n",
        "x_2 = (-b - math.sqrt(delta))/ 2*a\n",
        "\n",
        "if(delta < 0):\n",
        "    print('Delta negativo')\n",
        "else:\n",
        "    print(f'X = {x_1:.2f}')\n",
        "    print(f'X\\' = {x_2:.2f}')"
      ],
      "metadata": {
        "id": "lSbnTqtPajdf"
      },
      "execution_count": null,
      "outputs": []
    },
    {
      "cell_type": "markdown",
      "source": [
        "### 6. Na primeira etapa de um concurso, o candidato tem que fazer duas provas. Dessas duas notas é tirada a média do candidato. Caso essa média seja maior ou igual a 7.0, ele estará apto a fazer a segunda etapa do concurso. Na segunda etapa, ele fará mais uma prova, onde deverá obter uma nota maior ou igual a 8.0 para ser aprovado no concurso. Escreva um programa que leia as notas da primeira etapa, calcule a média da primeira etapa, e se o candidato for aprovado na primeira etapa, leia a nota dele na segunda etapa e diga se ele foi aprovado ou não no concurso."
      ],
      "metadata": {
        "id": "Ku-hK1Tnao_X"
      }
    },
    {
      "cell_type": "code",
      "source": [
        "n_1 =  float(input('Digite a primeira nota: '))\n",
        "n_2 = float(input('Digite a segunda nota: '))\n",
        "\n",
        "media = (n_1 + n_2)/2\n",
        "\n",
        "if(media < 7):\n",
        "    print('O candidato nao obteve a media necessaria para prox etapa')\n",
        "else:\n",
        "    n_3 = float(input('Candidato aprovado na etapa 1\\nDigite a terceira nota: '))\n",
        "    if(n_3 >= 8):\n",
        "        print('Candidato aprovado no concurso')\n",
        "    else:\n",
        "        print('Nao foi dessa vez')"
      ],
      "metadata": {
        "id": "BzA01YEiayq4"
      },
      "execution_count": null,
      "outputs": []
    }
  ]
}