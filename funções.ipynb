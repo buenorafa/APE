{
  "nbformat": 4,
  "nbformat_minor": 0,
  "metadata": {
    "colab": {
      "provenance": [],
      "authorship_tag": "ABX9TyMTPexWkmUXK0NLoGAWPJyQ",
      "include_colab_link": true
    },
    "kernelspec": {
      "name": "python3",
      "display_name": "Python 3"
    },
    "language_info": {
      "name": "python"
    }
  },
  "cells": [
    {
      "cell_type": "markdown",
      "metadata": {
        "id": "view-in-github",
        "colab_type": "text"
      },
      "source": [
        "<a href=\"https://colab.research.google.com/github/buenorafa/APE/blob/main/fun%C3%A7%C3%B5es.ipynb\" target=\"_parent\"><img src=\"https://colab.research.google.com/assets/colab-badge.svg\" alt=\"Open In Colab\"/></a>"
      ]
    },
    {
      "cell_type": "markdown",
      "source": [
        "# LISTA DE EXERCÍCIOS: FUNÇÕES"
      ],
      "metadata": {
        "id": "vaQ-hEpbSPIE"
      }
    },
    {
      "cell_type": "markdown",
      "source": [
        "### 1. Escreva uma função chamada **menor** que receba 3 números e retorne o menor deles. Faça também um programa para testar a função."
      ],
      "metadata": {
        "id": "-HK5guV5SRfo"
      }
    },
    {
      "cell_type": "code",
      "source": [
        "def menor(n1, n2 = 0, n3 = 0):\n",
        "  menor = n1\n",
        "  if n2 < menor:\n",
        "    menor = n2\n",
        "  elif n3 < menor:\n",
        "    menor = n3\n",
        "  return menor\n",
        "\n",
        "# TESTE\n",
        "menor_num = menor(30, 45, 12)\n",
        "print(menor_num)"
      ],
      "metadata": {
        "colab": {
          "base_uri": "https://localhost:8080/"
        },
        "id": "EawCzcrHSaUp",
        "outputId": "248df5d4-69d1-4c4a-c33e-2873211429bc"
      },
      "execution_count": null,
      "outputs": [
        {
          "output_type": "stream",
          "name": "stdout",
          "text": [
            "12\n"
          ]
        }
      ]
    },
    {
      "cell_type": "markdown",
      "source": [
        "### 2. Escreva uma função chamada **fatorial** que receba um número inteiro e retorne seu fatorial. Faça também um programa para testar a função."
      ],
      "metadata": {
        "id": "6vVtwleSSaxS"
      }
    },
    {
      "cell_type": "code",
      "source": [
        "def fatorial(num):\n",
        "  fat = 1\n",
        "  for i in range(2, num + 1):\n",
        "    fat *= i\n",
        "  return fat\n",
        "# Teste\n",
        "print(fatorial(5))"
      ],
      "metadata": {
        "colab": {
          "base_uri": "https://localhost:8080/"
        },
        "id": "fpi3J4dLSgWj",
        "outputId": "a3298bba-8dc8-4e9a-9312-a93193362f74"
      },
      "execution_count": null,
      "outputs": [
        {
          "output_type": "stream",
          "name": "stdout",
          "text": [
            "120\n"
          ]
        }
      ]
    },
    {
      "cell_type": "markdown",
      "source": [
        "### 3. Escreva uma função chamada **vertical** que receba como parâmetro uma string e a exiba na vertical, ou seja, com uma letra em cada linha. Faça também um programa para testar a função."
      ],
      "metadata": {
        "id": "mambt9EiSgw3"
      }
    },
    {
      "cell_type": "code",
      "source": [
        "def vertical(string):\n",
        "  for i in string:\n",
        "    print(i)\n",
        "# Teste\n",
        "vertical('Hello World')"
      ],
      "metadata": {
        "colab": {
          "base_uri": "https://localhost:8080/"
        },
        "id": "cSu9iehwSnFZ",
        "outputId": "8ce7fe1e-d83b-49b8-833c-0fe747044853"
      },
      "execution_count": null,
      "outputs": [
        {
          "output_type": "stream",
          "name": "stdout",
          "text": [
            "H\n",
            "e\n",
            "l\n",
            "l\n",
            "o\n",
            " \n",
            "W\n",
            "o\n",
            "r\n",
            "l\n",
            "d\n"
          ]
        }
      ]
    },
    {
      "cell_type": "markdown",
      "source": [
        "### 4. Escreva uma função chamada **soma** que receba um vetor e retorne a soma dos seus elementos (obs: não use a função sum). Escreva também um programa que, dado o vetor V = [ 6,3,8,7,2,5 ] e usando a função **soma** criada, informe a soma dos elementos do vetor V."
      ],
      "metadata": {
        "id": "C4h98dNeSnZe"
      }
    },
    {
      "cell_type": "code",
      "source": [
        "def soma(vetor):\n",
        "  soma = 0\n",
        "  for i in vetor:\n",
        "    soma += i\n",
        "  return soma\n",
        "\n",
        "# Teste\n",
        "v = [ 6,3,8,7,2,5 ]\n",
        "print(soma(v))"
      ],
      "metadata": {
        "colab": {
          "base_uri": "https://localhost:8080/"
        },
        "id": "owbmcThKS5Ir",
        "outputId": "5b983dff-619e-4707-8467-dbb3981feb35"
      },
      "execution_count": null,
      "outputs": [
        {
          "output_type": "stream",
          "name": "stdout",
          "text": [
            "31\n"
          ]
        }
      ]
    },
    {
      "cell_type": "markdown",
      "source": [
        "### 5. Escreva um programa que leia as 3 notas de um aluno, determine e exiba a sua média e seu conceito.\n",
        "O programa deve conter as seguintes funções:\n",
        "* Uma função que recebe como parâmetros as 3 notas do aluno e retorne a sua\n",
        "média (aritmética).\n",
        "* Uma função que receba como parâmetro a média do aluno e retorne o seu\n",
        "conceito, de acordo com a tabela abaixo:\n",
        "\n",
        "    \n",
        "Média | Conceito\n",
        "------|----------\n",
        ">= 8,0| A\n",
        ">= 5,0 e < 8,0 | B\n",
        "< 5,0 | C"
      ],
      "metadata": {
        "id": "97kI1JujS7VC"
      }
    },
    {
      "cell_type": "code",
      "source": [
        "def media(n1, n2, n3):\n",
        "  return (n1 + n2 + n3)/3\n",
        "def conceito(med):\n",
        "  if med < 5:\n",
        "    conceito = 'C'\n",
        "  elif med >= 5 and med < 8:\n",
        "    conceito = 'B'\n",
        "  else:\n",
        "    conceito = 'A'\n",
        "  return conceito\n",
        "\n",
        "# TESTE\n",
        "med = media(10,10,9.5)\n",
        "con = conceito(med)\n",
        "\n",
        "print(f'Média: {med}\\nConceito: {con}')\n",
        "  "
      ],
      "metadata": {
        "colab": {
          "base_uri": "https://localhost:8080/"
        },
        "id": "CQM3bEKsTQc6",
        "outputId": "e09f7239-a59b-44d7-9061-d4f36ea83759"
      },
      "execution_count": null,
      "outputs": [
        {
          "output_type": "stream",
          "name": "stdout",
          "text": [
            "Média: 9.833333333333334\n",
            "Conceito: A\n"
          ]
        }
      ]
    }
  ]
}