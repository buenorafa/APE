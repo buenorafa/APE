{
  "nbformat": 4,
  "nbformat_minor": 0,
  "metadata": {
    "colab": {
      "name": "execicio1.ipynb",
      "provenance": [],
      "collapsed_sections": [],
      "authorship_tag": "ABX9TyMmgYTiASY/9BzcYLffGG4E",
      "include_colab_link": true
    },
    "kernelspec": {
      "name": "python3",
      "display_name": "Python 3"
    },
    "language_info": {
      "name": "python"
    }
  },
  "cells": [
    {
      "cell_type": "markdown",
      "metadata": {
        "id": "view-in-github",
        "colab_type": "text"
      },
      "source": [
        "<a href=\"https://colab.research.google.com/github/buenorafa/APE/blob/main/execicio1.ipynb\" target=\"_parent\"><img src=\"https://colab.research.google.com/assets/colab-badge.svg\" alt=\"Open In Colab\"/></a>"
      ]
    },
    {
      "cell_type": "markdown",
      "source": [
        "# LISTA DE EXERCÍCIOS: INTRODUÇÃO A PYTHON"
      ],
      "metadata": {
        "id": "ezJl9956vo5u"
      }
    },
    {
      "cell_type": "markdown",
      "source": [
        "### 1. Faça um programa que exiba na tela do computador a mensagem “Bem-vindo ao mundo da programação! ”."
      ],
      "metadata": {
        "id": "vK7EiOlCvt3P"
      }
    },
    {
      "cell_type": "code",
      "execution_count": null,
      "metadata": {
        "id": "3OEIvWwevhC_"
      },
      "outputs": [],
      "source": [
        "print(\"Bem-vindo ao mundo da programação!\")"
      ]
    },
    {
      "cell_type": "markdown",
      "source": [
        "### 2. Escreva um programa que leia um número inteiro e exiba o dobro dele."
      ],
      "metadata": {
        "id": "n32mTx0mv4Fm"
      }
    },
    {
      "cell_type": "code",
      "source": [
        "numero = int(input('Digite um numero inteiro: '))\n",
        "resultado = numero * 2\n",
        "print(f'O dobro de {numero} eh {resultado}')\n"
      ],
      "metadata": {
        "id": "8QWFaKpUv8OA"
      },
      "execution_count": null,
      "outputs": []
    },
    {
      "cell_type": "markdown",
      "source": [
        "### 3. Faça um programa que leia dois números reais, calcule e exiba a soma deles."
      ],
      "metadata": {
        "id": "aXnxqj-PwEet"
      }
    },
    {
      "cell_type": "code",
      "source": [
        "num1 = float(input('Digite o primeiro numero:'))\n",
        "num2 = float(input('Digite o segundo numero:'))\n",
        "print(f'A soma deles eh: {num1 + num2}')"
      ],
      "metadata": {
        "id": "_DzChr3twHV7"
      },
      "execution_count": null,
      "outputs": []
    },
    {
      "cell_type": "markdown",
      "source": [
        "### 4. Escreva um programa para calcular a área de um triângulo, dados os valores de base e altura.\n",
        "\n",
        " Área = Base * Altura / 2\n",
        " \n",
        "\n"
      ],
      "metadata": {
        "id": "eACI9gUqwMxi"
      }
    },
    {
      "cell_type": "code",
      "source": [
        "base = float(input('Digite a base: '))\n",
        "altura = float(input('Digite a altura: '))\n",
        "area = (base*altura)/2\n",
        "print(f'A area eh: {area}')"
      ],
      "metadata": {
        "id": "uQJOjQLBxGZk"
      },
      "execution_count": null,
      "outputs": []
    },
    {
      "cell_type": "markdown",
      "source": [
        "###  5. Escreva um programa para ler o nome e o sobrenome de uma pessoa e escrevê-los na seguinte forma: sobrenome seguido por uma vírgula e pelo nome\n",
        "\n",
        "Ex. \n",
        "\n",
        "| Entrada:         | Saída:          |\n",
        "|------------------|-----------------|\n",
        "|  Antonio, Soares | Soares, Antonio |"
      ],
      "metadata": {
        "id": "rG94iBrQxM3o"
      }
    },
    {
      "cell_type": "code",
      "source": [
        "nome = input('Digite o nome: ')\n",
        "sobrenome = input('Digite o sobrenome: ')\n",
        "print(f'{sobrenome}, {nome}')"
      ],
      "metadata": {
        "id": "yqKsBPiCy2Jp"
      },
      "execution_count": null,
      "outputs": []
    },
    {
      "cell_type": "markdown",
      "source": [
        "### 6. Faça um programa que efetue a apresentação do valor da conversão em real (R\\$) de um valor lido em dólar (US$). O algoritmo deverá solicitar o valor da cotação do dólar e também a quantidade de dólares disponíveis com o usuário."
      ],
      "metadata": {
        "id": "YR5FAykuy6ps"
      }
    },
    {
      "cell_type": "code",
      "source": [
        "dolar = float(input('Digite a cotacao do dolar: '))\n",
        "quant_dolar = float(input('Digite a quantidade de dolar: '))\n",
        "print(f'O valor em reais é: {dolar * quant_dolar}')"
      ],
      "metadata": {
        "id": "kfpvMNi-zBKm"
      },
      "execution_count": null,
      "outputs": []
    },
    {
      "cell_type": "markdown",
      "source": [
        "### 7. O restaurante a quilo Bem-Bão cobra R$25,00 por cada quilo de refeição. Faça um programa que leia o peso do prato montado pelo cliente (em quilos) e exiba o valor a pagar. Assuma que a balança já desconte o peso do prato."
      ],
      "metadata": {
        "id": "_EOGhTbqzSo1"
      }
    },
    {
      "cell_type": "code",
      "source": [
        "valor_do_prato =  float(input('Digite o valor do prato em kg: '))\n",
        "print(f'O valor total é {valor_do_prato*25:.2f}')"
      ],
      "metadata": {
        "id": "7_iRxTNYzYtI"
      },
      "execution_count": null,
      "outputs": []
    },
    {
      "cell_type": "markdown",
      "source": [
        "### 8. Faça um programa que leia o nome de um aluno e as notas das três provas que ele obteve no semestre. No final informar o nome do aluno e a sua média (aritmética)."
      ],
      "metadata": {
        "id": "q17P62BWzdNe"
      }
    },
    {
      "cell_type": "code",
      "source": [
        "nome = input('Digite o nome: ')\n",
        "nota_1 = float(input('Digite a nota 1: '))\n",
        "nota_2 = float(input('Digite a nota 2: '))\n",
        "nota_3 = float(input('Digite a nota 3: '))\n",
        "media = (nota_1 + nota_2 + nota_3)/3\n",
        "print(f'Media aritmetica: {media:.2f}')"
      ],
      "metadata": {
        "id": "EcqmXC4hzh6L"
      },
      "execution_count": null,
      "outputs": []
    }
  ]
}