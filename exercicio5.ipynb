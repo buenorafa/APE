{
  "nbformat": 4,
  "nbformat_minor": 0,
  "metadata": {
    "colab": {
      "provenance": [],
      "collapsed_sections": [],
      "authorship_tag": "ABX9TyMcKspF+jgfa2j489BRVW9W",
      "include_colab_link": true
    },
    "kernelspec": {
      "name": "python3",
      "display_name": "Python 3"
    },
    "language_info": {
      "name": "python"
    }
  },
  "cells": [
    {
      "cell_type": "markdown",
      "metadata": {
        "id": "view-in-github",
        "colab_type": "text"
      },
      "source": [
        "<a href=\"https://colab.research.google.com/github/buenorafa/APE/blob/main/exercicio5.ipynb\" target=\"_parent\"><img src=\"https://colab.research.google.com/assets/colab-badge.svg\" alt=\"Open In Colab\"/></a>"
      ]
    },
    {
      "cell_type": "markdown",
      "source": [
        "# LISTA DE EXERCÍCIOS: ESTRUTURA DE REPETIÇÃO (FOR)"
      ],
      "metadata": {
        "id": "3vbCYu7fXMRO"
      }
    },
    {
      "cell_type": "markdown",
      "source": [
        "### 1. Faça um programa que calcule e mostre os números múltiplos de 5 do intervalo 50 a 300, juntamente com suas raízes e seus cubos."
      ],
      "metadata": {
        "id": "FW2laICOXO7Z"
      }
    },
    {
      "cell_type": "code",
      "source": [
        "import math\n",
        "\n",
        "for i in range(50, 301, 5):\n",
        "    print(f'N: {i}\\\n",
        "    \\nRaíz: {math.sqrt(i):.2f}\\\n",
        "    \\nCubo: {i**3}')"
      ],
      "metadata": {
        "id": "kyd7Q_LyXVCq"
      },
      "execution_count": null,
      "outputs": []
    },
    {
      "cell_type": "markdown",
      "source": [
        "### 2. Faça um programa que leia um número N, inteiro, e some todos os números de 1 até N, mostrando o resultado."
      ],
      "metadata": {
        "id": "7WUciF46XzEM"
      }
    },
    {
      "cell_type": "code",
      "source": [
        "n = int(input('Digite um numero inteiro: '))\n",
        "aux = 0\n",
        "for i in range(n+1):\n",
        "    aux += i\n",
        "print(f'A soma dos numeros foi: {aux}')"
      ],
      "metadata": {
        "id": "EY1COUEdX4nr"
      },
      "execution_count": null,
      "outputs": []
    },
    {
      "cell_type": "markdown",
      "source": [
        "### 3. Faça um programa que calcule e mostre o fatorial de um número N, fornecido pelo usuário. A definição de fatorial é mostrada a seguir:\n",
        "\n",
        "Ex.:\n",
        "\n",
        "N! = 1 x 2 x 3 x ... x N-1 x N"
      ],
      "metadata": {
        "id": "hNfZ5XjeYBIf"
      }
    },
    {
      "cell_type": "code",
      "source": [
        "n = int(input('Digite um numero inteiro: '))\n",
        "aux = 1\n",
        "for i in range(1 , n+1):\n",
        "    aux *= i\n",
        "print(f'{n}! = {aux}')"
      ],
      "metadata": {
        "id": "BOpB3bXXYbyN"
      },
      "execution_count": null,
      "outputs": []
    },
    {
      "cell_type": "markdown",
      "source": [
        "### 4. Faça um programa que leia 20 números inteiros, determine e mostre o maior deles."
      ],
      "metadata": {
        "id": "McpvxtNdYiZo"
      }
    },
    {
      "cell_type": "code",
      "source": [
        "aux = 0\n",
        "for i in range(20):\n",
        "    n = int(input('Digite um numero inteiro: '))\n",
        "    if(aux < n):\n",
        "        aux = n\n",
        "print(f'O maior numero: {aux}')"
      ],
      "metadata": {
        "id": "5uz2mY8WYm4W"
      },
      "execution_count": null,
      "outputs": []
    },
    {
      "cell_type": "markdown",
      "source": [
        "### 5. Faça um programa que, para um grupo de N pessoas (obs: N será lido):\n",
        "*   Leia o sexo (M ou F) de cada pessoa;\n",
        "*   Calcule e escreva o percentual de homens;\n",
        "*   Calcule e escreva o percentual de mulheres.\n",
        "\n"
      ],
      "metadata": {
        "id": "jKyYyj0HYsKW"
      }
    },
    {
      "cell_type": "code",
      "source": [
        "n = int(input('Digite o numero de pessoas: '))\n",
        "homens = 0\n",
        "mulheres = 0\n",
        "for i in range(n):\n",
        "    sexo = input(f'Digite o sexo (M ou F) da pessoa {i + 1}: ')\n",
        "    sexo = sexo.upper()\n",
        "    if(sexo == 'M'):\n",
        "        homens += 1\n",
        "    elif(sexo == 'F'):\n",
        "        mulheres += 1\n",
        "print(f'Total de pessoas: {n}\\\n",
        "    \\nPercentual de homens: {(homens/n)*100:.2f}%\\\n",
        "    \\nPercentual de mulheres: {(mulheres/n)*100:.2f}%')"
      ],
      "metadata": {
        "id": "aMd4TxE7YwJm"
      },
      "execution_count": null,
      "outputs": []
    },
    {
      "cell_type": "markdown",
      "source": [
        "### 6. Faça um programa que leia 3 números inteiros (N, X, Y) e mostre todos os números múltiplos de N entre X e Y."
      ],
      "metadata": {
        "id": "9EQgSuWlZbbU"
      }
    },
    {
      "cell_type": "code",
      "source": [
        "n = int(input('Digite N: '))\n",
        "x = int(input('Digite X: '))\n",
        "y = int(input('Digite Y: '))\n",
        "for i in range(x, y+1):\n",
        "    if(i%n == 0):\n",
        "        print(i)"
      ],
      "metadata": {
        "id": "BGVZ-acnZlo-"
      },
      "execution_count": null,
      "outputs": []
    },
    {
      "cell_type": "markdown",
      "source": [
        "### 7. Um número é, por definição, primo se ele não tem divisores, exceto 1 e ele próprio. Faça um programa que leia um número e determine se ele é ou não primo."
      ],
      "metadata": {
        "id": "0m2QNp5DZque"
      }
    },
    {
      "cell_type": "code",
      "source": [
        "numero =  int(input('Digite um numero: '))\n",
        "aux = 0\n",
        "for i in range(2, numero - 1):\n",
        "    if(numero % i == 0):\n",
        "        aux += 1\n",
        "resultado = 'Eh primo'\n",
        "if(aux > 0):\n",
        "    resultado = 'Nao eh primo'\n",
        "print(resultado)"
      ],
      "metadata": {
        "id": "fKB6-ue_ZvUw"
      },
      "execution_count": null,
      "outputs": []
    },
    {
      "cell_type": "markdown",
      "source": [
        "### 8. Faça um programa que leia um número inteiro N, calcule e mostre o maior quadrado perfeito menor ou igual a N. Por exemplo, se N for igual a 38, o resultado é 36."
      ],
      "metadata": {
        "id": "SLtSLGSNZ2OJ"
      }
    },
    {
      "cell_type": "code",
      "source": [
        "n = int(input('Digite um numero: '))\n",
        "quadrado = 0\n",
        "for i in range(n, 1, -1):\n",
        "    if(i**2 <= n):\n",
        "        quadrado = i**2\n",
        "        break\n",
        "print(f'Quadrado perfeito: {quadrado}')"
      ],
      "metadata": {
        "id": "Dnre51nvZ5vq"
      },
      "execution_count": null,
      "outputs": []
    }
  ]
}