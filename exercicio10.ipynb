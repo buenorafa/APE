{
  "nbformat": 4,
  "nbformat_minor": 0,
  "metadata": {
    "colab": {
      "provenance": [],
      "collapsed_sections": [],
      "authorship_tag": "ABX9TyPslEpxvhRLBYxjdipT4fCe",
      "include_colab_link": true
    },
    "kernelspec": {
      "name": "python3",
      "display_name": "Python 3"
    },
    "language_info": {
      "name": "python"
    }
  },
  "cells": [
    {
      "cell_type": "markdown",
      "metadata": {
        "id": "view-in-github",
        "colab_type": "text"
      },
      "source": [
        "<a href=\"https://colab.research.google.com/github/buenorafa/APE/blob/main/exercicio10.ipynb\" target=\"_parent\"><img src=\"https://colab.research.google.com/assets/colab-badge.svg\" alt=\"Open In Colab\"/></a>"
      ]
    },
    {
      "cell_type": "markdown",
      "source": [
        "# LISTA DE EXERCÍCIOS: MATRIZ"
      ],
      "metadata": {
        "id": "f2rjsm31JM3-"
      }
    },
    {
      "cell_type": "markdown",
      "source": [
        "### 1. Escreva um programa que preencha duas matrizes (A e B), ambas de ordem 2x3, com valores inteiros fornecidos pelo usuário (ou gerados aleatoriamente). O programa deverá somar as duas matrizes, armazenando o resultado em uma terceira matriz (C). Ao final, exiba as 3 matrizes (no formato de matriz)."
      ],
      "metadata": {
        "id": "P99O-7giJPp0"
      }
    },
    {
      "cell_type": "code",
      "execution_count": null,
      "metadata": {
        "id": "eskKcLOYI2b9"
      },
      "outputs": [],
      "source": [
        "import random \n",
        "n_lin = 2\n",
        "n_col = 3\n",
        "# Cria os vetores\n",
        "mat_a = [ [None]*n_col for i in range(n_lin)]\n",
        "mat_b = [ [None]*n_col for i in range(n_lin)]\n",
        "mat_c = [ [None]*n_col for i in range(n_lin)]\n",
        "# Atribui valores random a cada elemento\n",
        "for i in range(n_lin):\n",
        "  for j in range(n_col):\n",
        "    mat_a[i][j] = random.randint(1,10)\n",
        "    mat_b[i][j] = random.randint(1,10)\n",
        "    mat_c[i][j] = mat_a[i][j] + mat_b[i][j]\n",
        "# Imprime as matrizes\n",
        "print('Matriz A: ')\n",
        "for i in range(n_lin):\n",
        "  for j in range(n_col):\n",
        "    print(mat_a[i][j], end='\\t')\n",
        "  print()\n",
        "\n",
        "print('\\nMatriz B: ')\n",
        "for i in range(n_lin):\n",
        "  for j in range(n_col):\n",
        "    print(mat_b[i][j], end='\\t')\n",
        "  print()\n",
        "\n",
        "print('\\nMatriz C: ')\n",
        "for i in range(n_lin):\n",
        "  for j in range(n_col):\n",
        "    print(mat_c[i][j], end='\\t')\n",
        "  print()"
      ]
    },
    {
      "cell_type": "markdown",
      "source": [
        "### 2. Escreva um programa que:\n",
        "* Leia (ou gere aleatoriamente) uma matriz quadrada de ordem N contendo elementos\n",
        "inteiros (N será lido);\n",
        "* Exiba a matriz lida (no formato de matriz);\n",
        "* Exiba os elementos da diagonal principal, isto é, os elementos onde I = J."
      ],
      "metadata": {
        "id": "VJ9ZlCLRNghM"
      }
    },
    {
      "cell_type": "code",
      "source": [
        "import random \n",
        "n = int(input('Digite o valor de N: '))\n",
        "# Cria o vetor\n",
        "mat = [ [None]*n for i in range(n)]\n",
        "# Atribui valores random a cada elemento\n",
        "for i in range(n):\n",
        "  for j in range(n):\n",
        "    mat[i][j] = random.randint(1,10)\n",
        "# Imprime a matriz\n",
        "print('\\nMatriz: ')\n",
        "for i in range(n):\n",
        "  for j in range(n):\n",
        "    print(mat[i][j], end='\\t')\n",
        "  print()\n",
        "# Imprime apenas diagonal principal\n",
        "print('\\nDiagonal principal: ')\n",
        "for i in range(n):\n",
        "  for j in range(n):\n",
        "    if(i != j):\n",
        "        mat[i][j] = ' '\n",
        "    print(mat[i][j], end='\\t')\n",
        "  print()"
      ],
      "metadata": {
        "id": "F6ERcLTVNl2G"
      },
      "execution_count": null,
      "outputs": []
    },
    {
      "cell_type": "markdown",
      "source": [
        "### 3. Escreva um programa que gere aleatoriamente uma matriz quadrada A (cuja ordem será lida) e gere uma matriz B (da mesma ordem de A), onde cada elemento de B corresponderá ao respectivo elemento de A somado a ele os seus índices, sendo que se o elemento for de alguma diagonal (principal ou secundária) deverá ser colocado 0 (zero).\n",
        "Veja o exemplo a seguir:\n",
        "\n",
        "![img](https://drive.google.com/uc?export=view&id=1-3Mp9ig89aYPgYHqxwouK-7dnGLAmVFH)\n",
        "\n",
        "Ao final, imprima as duas matrizes (no formato de matriz).\n",
        "\n",
        "\n",
        "\n"
      ],
      "metadata": {
        "id": "BgZziYvHP4O5"
      }
    },
    {
      "cell_type": "code",
      "source": [
        "import random \n",
        "n = int(input('Digite o valor de N: '))\n",
        "# Cria o vetor\n",
        "mat_a = [ [None]*n for i in range(n)]\n",
        "mat_b = [ [None]*n for i in range(n)]\n",
        "# Atribui valores random a cada elemento\n",
        "for i in range(n):\n",
        "  for j in range(n):\n",
        "    mat_a[i][j] = random.randint(1,10)\n",
        "    if(i == j or i + j == n-1):\n",
        "        mat_b[i][j] = 0 \n",
        "    else:\n",
        "        mat_b[i][j] = mat_a[i][j] + i + j\n",
        "# Imprime as matrizes\n",
        "print('\\nMatriz A: ')\n",
        "for i in range(n):\n",
        "  for j in range(n):\n",
        "    print(mat_a[i][j], end='\\t')\n",
        "  print()\n",
        "print('\\nMatriz B: ')\n",
        "for i in range(n):\n",
        "  for j in range(n):\n",
        "    print(mat_b[i][j], end='\\t')\n",
        "  print()"
      ],
      "metadata": {
        "id": "GEwJnI2JT1jg"
      },
      "execution_count": null,
      "outputs": []
    },
    {
      "cell_type": "markdown",
      "source": [
        "### 4. Uma matriz transposta é a matriz que se obtém da troca de linhas por colunas de uma dada matriz. Assim, dada uma matriz **C** de ordem **m x n**, a matriz transposta dela será representada por **Ct** de ordem **n x m**, onde cada elemento de **Ct [i,j] = C[j,i]**.\n",
        "![img_2](https://drive.google.com/uc?export=view&id=1TGz2LfyRYqEviBZp3Evqm3G95baVvlh1)\n",
        "### Escreva um programa que preencha uma matriz 3x5 com valores inteiros fornecidos pelo usuário (ou gerados aleatoriamente) e gere a sua transposta. Ao final, imprima as duas matrizes (no formato de matriz)."
      ],
      "metadata": {
        "id": "s1B94SnsA7Cy"
      }
    },
    {
      "cell_type": "code",
      "source": [
        "import random \n",
        "n_lin = 2\n",
        "n_col = 3\n",
        "# Cria os vetores\n",
        "mat = [ [None]*n_col for i in range(n_lin)]\n",
        "mat_t = [ [None]*n_lin for i in range(n_col)]\n",
        "# Atribui valores random a matriz\n",
        "for i in range(n_lin):\n",
        "  for j in range(n_col):\n",
        "    mat[i][j] = random.randint(1,10) \n",
        "    # Obtemos a matriz transposta invertendo os índices\n",
        "    mat_t[j][i] = mat[i][j]\n",
        "# Imprime as matrizes \n",
        "print('Matriz: ')\n",
        "for i in range(n_lin):\n",
        "  for j in range(n_col):\n",
        "    print(mat[i][j], end='\\t')\n",
        "  print()\n",
        "print('\\nMatriz T: ')\n",
        "for i in range(n_col):\n",
        "  for j in range(n_lin):\n",
        "    print(mat_t[i][j], end='\\t')\n",
        "  print()"
      ],
      "metadata": {
        "id": "NbBuFz4MB9Pr"
      },
      "execution_count": null,
      "outputs": []
    },
    {
      "cell_type": "markdown",
      "source": [
        "### 5. Escreva um programa que:\n",
        "* Crie uma matriz de ordem 20 x 4 e armazene nela as 3 notas dos 20 alunos de uma\n",
        "turma e a média de cada um deles.\n",
        "  * As notas serão lidas e armazenadas nas 3 primeiras colunas da matriz;\n",
        "  * As médias serão calculadas e armazenadas na 4a coluna da matriz.\n",
        "* Imprima as notas dos alunos e suas respectivas médias (no formato de matriz).\n",
        "* Calcule e imprima a média geral da turma.\n",
        "* Calcule e imprima o número de alunos com média superior à média geral da turma."
      ],
      "metadata": {
        "id": "Ow-TPMWsGV3_"
      }
    },
    {
      "cell_type": "code",
      "source": [
        "n_lin = 2\n",
        "n_col = 4\n",
        "# Cria a matriz\n",
        "mat = [[None]*n_col for i in range(n_lin)]\n",
        "for i in range(n_lin):\n",
        "  soma = 0\n",
        "  for j in range(n_col):\n",
        "    if j < n_col - 1:\n",
        "      mat[i][j] = float(input(f'Digite a nota {j+1} do aluno {i+1}: '))\n",
        "      soma += mat[i][j]\n",
        "    else:\n",
        "      mat[i][j] = soma/3\n",
        "print()\n",
        "# Imprime a matriz e soma todas as médias\n",
        "soma_total = 0\n",
        "for i in range(n_lin):\n",
        "  for j in range(n_col):\n",
        "    print(mat[i][j], end='\\t')\n",
        "    if j == n_col - 1:\n",
        "      soma_total += mat[i][j]\n",
        "  print()\n",
        "media_total = soma_total / n_lin\n",
        "print(f'\\nMédia Total: {media_total}')\n",
        "# Conta todos alunos acima da média total\n",
        "superior = 0\n",
        "for i in range(n_lin):\n",
        "  if(mat[i][n_col - 1] > media_total):\n",
        "    superior += 1\n",
        "print(f'Alunos acima da média: {superior}')  "
      ],
      "metadata": {
        "id": "A9FZjMFWGnSE"
      },
      "execution_count": null,
      "outputs": []
    }
  ]
}