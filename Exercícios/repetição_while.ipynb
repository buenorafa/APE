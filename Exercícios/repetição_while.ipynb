{
  "nbformat": 4,
  "nbformat_minor": 0,
  "metadata": {
    "colab": {
      "provenance": [],
      "authorship_tag": "ABX9TyPGU+heH+iN6u4QCCvFVZzQ",
      "include_colab_link": true
    },
    "kernelspec": {
      "name": "python3",
      "display_name": "Python 3"
    },
    "language_info": {
      "name": "python"
    }
  },
  "cells": [
    {
      "cell_type": "markdown",
      "metadata": {
        "id": "view-in-github",
        "colab_type": "text"
      },
      "source": [
        "<a href=\"https://colab.research.google.com/github/buenorafa/APE/blob/main/repeti%C3%A7%C3%A3o_while.ipynb\" target=\"_parent\"><img src=\"https://colab.research.google.com/assets/colab-badge.svg\" alt=\"Open In Colab\"/></a>"
      ]
    },
    {
      "cell_type": "markdown",
      "source": [
        "# LISTA DE EXERCÍCIOS: ESTRUTURA DE REPETIÇÃO (WHILE)\n"
      ],
      "metadata": {
        "id": "jpldONuwBu-5"
      }
    },
    {
      "cell_type": "markdown",
      "source": [
        "### 1. Faça um programa que leia 30 números inteiros, calcule e mostre a soma deles\n",
        "Obs: não use o comando for, use while."
      ],
      "metadata": {
        "id": "g71O7TY7B2rt"
      }
    },
    {
      "cell_type": "code",
      "source": [
        "i = 0\n",
        "soma = 0\n",
        "while (i < 30):\n",
        "    num = int(input('Digite um numero inteiro: '))\n",
        "    soma += num\n",
        "    i += 1\n",
        "print(f'A soma eh: {soma}')\n"
      ],
      "metadata": {
        "id": "eO44ubKuB75u"
      },
      "execution_count": null,
      "outputs": []
    },
    {
      "cell_type": "markdown",
      "source": [
        "### 2. Faça um programa que leia vários números, calcule e exiba a média desses números.\n",
        "Obs: a leitura do número 999 indica o fim dos dados de entrada e não deve ser\n",
        "computado na média)"
      ],
      "metadata": {
        "id": "vPlp_RHBCc_4"
      }
    },
    {
      "cell_type": "code",
      "source": [
        "i = 0\n",
        "soma = 0\n",
        "num = int(input('Digite um numero inteiro\\n(Para encerrar digite 999): '))\n",
        "while (num != 999):\n",
        "    soma += num\n",
        "    i += 1\n",
        "    num = int(input('Digite outro numero inteiro\\n(Para encerrar digite 999): '))    \n",
        "media = soma / (i)\n",
        "print(f'Média: {media:.2f}')"
      ],
      "metadata": {
        "id": "Jg-ztavUClla"
      },
      "execution_count": null,
      "outputs": []
    },
    {
      "cell_type": "markdown",
      "source": [
        "### 3. Faça um programa que leia vários números, determine e mostre o maior e o menor deles.\n",
        "Obs: a leitura do número 0 (zero) encerra o programa."
      ],
      "metadata": {
        "id": "PXzg7w2jHgY5"
      }
    },
    {
      "cell_type": "code",
      "source": [
        "num = int(input('Digite um numero inteiro\\n(Para encerrar digite 0): '))\n",
        "maior = 0\n",
        "menor = num\n",
        "while (num != 0):\n",
        "    if(num > maior):\n",
        "        maior = num\n",
        "    if(num < menor):\n",
        "        menor = num\n",
        "    num = int(input('Digite outro numero inteiro\\n(Para encerrar digite 0): '))\n",
        "print(f'Maior numero: {maior}\\nMenor numero: {menor}')"
      ],
      "metadata": {
        "id": "3xtpyxO2HlVS"
      },
      "execution_count": null,
      "outputs": []
    },
    {
      "cell_type": "markdown",
      "source": [
        "### 4. Faça um programa que leia os seguintes dados de um conjunto de alunos: \n",
        "Matrícula, nome e as duas notas que ele obteve em suas avaliações. A\n",
        "condição de parada será a digitação de uma matrícula igual 0 (zero). \n",
        "### O programa deverá mostrar, para cada aluno, as seguintes informações:\n",
        "Matrícula, nome, média e situação (aprovado, se a média for igual ou superior\n",
        "a 7 e, reprovado, se a média for inferior a 7)."
      ],
      "metadata": {
        "id": "WuL6A49lJqVh"
      }
    },
    {
      "cell_type": "code",
      "source": [
        "mat = 1\n",
        "while (mat != '0'):\n",
        "    mat = input('Digite a matricula\\n(Para encerrar a matricula deve ser 0): ')\n",
        "    if(mat != '0'):\n",
        "        nome = input('Digite o nome do aluno: ')\n",
        "        n1 = int(input('Digite a n1: '))\n",
        "        n2 = int(input('Digite a n2: '))\n",
        "        media = (n1 + n2) / 2\n",
        "        status = 'Reprovado'\n",
        "        if(media >= 7):\n",
        "          status = 'Aprovado'\n",
        "        print(f'Matricula: {mat}\\n\\\n",
        "                Nome: {nome}\\n\\\n",
        "                Media: {media:.2f}\\n\\\n",
        "                Status: {status}')\n",
        "print('Programa encerrado')"
      ],
      "metadata": {
        "id": "8nlBnqALKDCG"
      },
      "execution_count": null,
      "outputs": []
    },
    {
      "cell_type": "markdown",
      "source": [
        "### 5. Faça um programa que leia um número inteiro e determine se ele é par ou ímpar. Ao final, o programa deve perguntar se o usuário deseja continuar (digitar outro número) ou sair. Se o usuário quiser continuar, o programa deve repetir tudo de novo, caso contrário o programa deve ser encerrado."
      ],
      "metadata": {
        "id": "zhClr1uESRP9"
      }
    },
    {
      "cell_type": "code",
      "source": [
        "executa = True\n",
        "while(executa):\n",
        "    num = int(input('Digite um numero inteiro: '))\n",
        "    resultado = 'Impar'\n",
        "    if(num%2 == 0):\n",
        "        resultado = 'Par'\n",
        "    print(f'O numero digitado: {resultado}')  \n",
        "    encerra = input('Deseja encerrar o programa: (Y/N)').upper()\n",
        "    if(encerra == 'Y'):\n",
        "      executa = False\n",
        "print('Programa encerrado')"
      ],
      "metadata": {
        "id": "CuEWtnO7SdvJ"
      },
      "execution_count": null,
      "outputs": []
    },
    {
      "cell_type": "markdown",
      "source": [
        "### 6. Chico tem 1,50 metros e cresce 2 centímetros por ano, enquanto Zé tem 1,10 metros e cresce 3 centímetros por ano. Faça um programa que calcule e imprima quantos anos serão necessários para que Zé seja maior que Chico."
      ],
      "metadata": {
        "id": "ufrCatK9VZya"
      }
    },
    {
      "cell_type": "code",
      "source": [
        "ano = 0\n",
        "chico = 1.5\n",
        "ze = 1.1\n",
        "while (ze <= chico):\n",
        "    ano += 1\n",
        "    chico += 0.2\n",
        "    ze += 0.3\n",
        "print(f'A quantidade de anos necessários é: {ano - 1} anos')"
      ],
      "metadata": {
        "id": "TJSCEL2PVp5e"
      },
      "execution_count": null,
      "outputs": []
    },
    {
      "cell_type": "markdown",
      "source": [
        "### 7. Faça um programa que leia a idade de várias pessoas visitantes de um show (aleitura da idade 0 indicará o fim dos dados de entrada), calcule e exiba:\n",
        "\n",
        "* A média de idade do público;\n",
        "* A porcentagem de pessoas com idade entre 18 e 21 anos;\n",
        "* Idade do visitante mais jovem."
      ],
      "metadata": {
        "id": "bkDG3tOJVuK3"
      }
    },
    {
      "cell_type": "code",
      "source": [
        "contador = 0\n",
        "soma = 0\n",
        "idade = ''\n",
        "jovens = 0\n",
        "mais_jovem = 999\n",
        "while (idade != 0):\n",
        "    idade = int(input('Digite a idade do usuário: '))\n",
        "    if(idade != 0):\n",
        "        soma += idade\n",
        "        contador += 1\n",
        "        if(idade >= 18 and idade <= 21):\n",
        "            jovens += 1\n",
        "        if(idade < mais_jovem):\n",
        "            mais_jovem = idade \n",
        "media = soma/contador\n",
        "percentual_jovens = (jovens/contador) * 100\n",
        "print(f'Media de idade: {media:.2f}\\n\\\n",
        "Pessoas entre 18 e 21 anos: {percentual_jovens:.2f}%\\n\\\n",
        "Visitante mais jovem: {mais_jovem}')"
      ],
      "metadata": {
        "id": "xPh36eFcV9Rv"
      },
      "execution_count": null,
      "outputs": []
    },
    {
      "cell_type": "markdown",
      "source": [
        "### 8. O cardápio de uma casa de lanches, especializada em sanduíches, é dado a seguir.\n",
        "\n",
        "|CÓDIGO |NOME |PREÇO|\n",
        "|-------|-----|-----|\n",
        "|H|Hamburger |R\\$ 5,00|\n",
        "|C| Cheese Burger| R\\$ 6,00|\n",
        "|B| Cheese Bacon |R\\$ 7,00|\n",
        "|F| Cheese Frango| R\\$ 4,00|\n",
        "\n",
        "### Faça um programa que leia o código e a quantidade de cada item comprado por um cliente (a leitura do código “X” indica o fim dos dados de entrada). Ao final, calcule e exiba o total a pagar.\n",
        "\n",
        "###Veja o exemplo abaixo, considerando que o cliente pediu 3 Hamburger e 2 Cheese Bacon:\n",
        "\n",
        "Entrada:   \n",
        "Código: H   \n",
        "Quantidade: 3   \n",
        "Código: B   \n",
        "Quantidade: 2   \n",
        "Código: X   \n",
        "\n",
        "Saída:   \n",
        "Total a pagar: R$ 29.00"
      ],
      "metadata": {
        "id": "UKOMvzGoV-Eg"
      }
    },
    {
      "cell_type": "code",
      "source": [
        "from tabulate import tabulate\n",
        "# ---------- APENAS PARA EXIBIR O MENU ----------- #\n",
        "cardapio = [['H', 'HAMBURGER', 'R$ 5,00'],\n",
        "            ['C','CHEESE BURGER','R$ 6,00'],\n",
        "            ['B','CHEESE BACON','R$ 7,00'],\n",
        "            ['F','CHEESE FRANGO','R$ 4,00']]\n",
        "# ----------------------------------------------- #\n",
        "cod = ''\n",
        "HAMBURGER = 5\n",
        "CHEESE_BURGER = 6\n",
        "CHEESE_BACON = 7\n",
        "CHEESE_FRANGO = 4\n",
        "total = 0\n",
        "# --------------- IMPRIME A TABELA  ------------- #\n",
        "print(tabulate(cardapio, headers=['COD.','LANCHE','PREÇO']))\n",
        "while(cod != 'X'):\n",
        "    cod = input('Digite o cod. (P/ sair: X): ').upper()\n",
        "    if(cod != 'X'):\n",
        "        quantidade = int(input('Digite a quantidade: '))\n",
        "        if(cod == 'H'):\n",
        "            valor_parcial = HAMBURGER * quantidade\n",
        "            lanche = 'HAMBURGER'\n",
        "        elif(cod == 'C'):\n",
        "            valor_parcial = CHEESE_BURGER * quantidade\n",
        "            lanche = 'CHEESE BURGER'\n",
        "        elif(cod == 'B'):\n",
        "            valor_parcial = CHEESE_BACON * quantidade\n",
        "            lanche = 'CHEESE BACON'\n",
        "        elif(cod == 'F'):\n",
        "            valor_parcial = CHEESE_FRANGO * quantidade\n",
        "            lanche = 'CHEESE FRANGO'\n",
        "        else:\n",
        "            lanche = 'COD. INVÁLIDO'\n",
        "            valor_parcial = 0\n",
        "        print(f'{quantidade}\\t{lanche}\\tR$ {valor_parcial},00\\n')\n",
        "        total += valor_parcial\n",
        "print(f'Total:\\t\\t\\tR$ {total},00\\n')"
      ],
      "metadata": {
        "id": "kzmg_x15Xh-1"
      },
      "execution_count": null,
      "outputs": []
    }
  ]
}