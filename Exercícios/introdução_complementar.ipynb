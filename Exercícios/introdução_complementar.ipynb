{
  "nbformat": 4,
  "nbformat_minor": 0,
  "metadata": {
    "colab": {
      "provenance": [],
      "authorship_tag": "ABX9TyNEn5BbkmBx9Rxn2goxbqKe",
      "include_colab_link": true
    },
    "kernelspec": {
      "name": "python3",
      "display_name": "Python 3"
    },
    "language_info": {
      "name": "python"
    }
  },
  "cells": [
    {
      "cell_type": "markdown",
      "metadata": {
        "id": "view-in-github",
        "colab_type": "text"
      },
      "source": [
        "<a href=\"https://colab.research.google.com/github/buenorafa/APE/blob/main/introdu%C3%A7%C3%A3o_complementar.ipynb\" target=\"_parent\"><img src=\"https://colab.research.google.com/assets/colab-badge.svg\" alt=\"Open In Colab\"/></a>"
      ]
    },
    {
      "cell_type": "markdown",
      "source": [
        "# LISTA DE EXERCÍCIOS: INTRODUÇÃO A PYTHON (COMPLEMENTAR)"
      ],
      "metadata": {
        "id": "KJG89d9Xz9bU"
      }
    },
    {
      "cell_type": "markdown",
      "source": [
        "### 1. A Companhia de Carros Usados João Honesto paga seus empregados um salário de R$ 1.000,00 por mês mais uma comissão de R\\$ 200,00 por cada carro vendido mais 5% do valor da venda. Escreva um programa que leia o nome, o número de carros vendidos e o valor total das vendas de um vendedor, e calcule e exiba o seu salário."
      ],
      "metadata": {
        "id": "qjHyPYHN0Bwy"
      }
    },
    {
      "cell_type": "code",
      "source": [
        "nome = input('Digite o nome do vendedor: ')\n",
        "carros = int(input('Digite o numero de carros vendidos: '))\n",
        "vendas = float(input('Digite o valor total das vendas: '))\n",
        "comissao =  carros * 200\n",
        "salario = 1000 + comissao + (vendas * 0.05)\n",
        "print(f'O salario de {nome} foi R$ {salario:.2f}')"
      ],
      "metadata": {
        "id": "oHl8iGVB0MkR"
      },
      "execution_count": null,
      "outputs": []
    },
    {
      "cell_type": "markdown",
      "source": [
        "### 2. Escreva um programa para calcular e exibir a média ponderada de 2 notas dadas. Sabe-se que nota1 possui peso 6 e nota2 possui peso 4."
      ],
      "metadata": {
        "id": "bEyAWn3Z0Vhq"
      }
    },
    {
      "cell_type": "code",
      "source": [
        "nota1 =  float(input('Digite a nota 1: '))\n",
        "nota2 =  float(input('Digite a nota 2: '))\n",
        "media = ((nota1 * 6) + (nota2 * 4))/ 10\n",
        "print(f'A media ponderada eh: {media}')"
      ],
      "metadata": {
        "id": "4qQId00E0Z2d"
      },
      "execution_count": null,
      "outputs": []
    },
    {
      "cell_type": "markdown",
      "source": [
        "### 3. Escreva um programa que leia duas variáveis inteiras e troque o conteúdo entre elas, mostrando o resultado."
      ],
      "metadata": {
        "id": "T6lIXoRc0qEG"
      }
    },
    {
      "cell_type": "code",
      "source": [
        "var1 =  int(input('Digite a primeira variavel inteira: '))\n",
        "var2 =  int(input('Digite a segunda variavel inteira: '))\n",
        "aux = var1\n",
        "var1 = var2\n",
        "var2 = aux\n",
        "print(f'var1: {var1} e var2: {var2}')"
      ],
      "metadata": {
        "id": "KJnlgZXy0tNX"
      },
      "execution_count": null,
      "outputs": []
    },
    {
      "cell_type": "markdown",
      "source": [
        "### 4. Um motorista anota a marcação do hodômetro do seu veículo antes e após uma viagem, bem como o número de litros de combustível gastos Escreva um programa que leia os 3 dados acima, o preço do litro de combustível, a capacidade do tanque e mostre:\n",
        "a) Quilometragem rodada.\n",
        "\n",
        "b) Quantos quilômetros por litro faz o veículo.\n",
        "\n",
        "c) Autonomia do veículo.\n",
        "\n",
        "d) Custo da viagem."
      ],
      "metadata": {
        "id": "7AKS7aVJ07_y"
      }
    },
    {
      "cell_type": "code",
      "source": [
        "hod_inicial =  float(input('Digite a marcacao inicial do hodometro: '))\n",
        "hod_final = float(input('Digite a marcacao final do hodometro: '))\n",
        "litros = float(input('Digite a quantidade de litros usada: '))\n",
        "preco_litro = float(input('Digite o preco do litro: '))\n",
        "tanque = int(input('Digite a capacidade do tanque de combustivel: '))"
      ],
      "metadata": {
        "id": "LS2oJyi91CO8"
      },
      "execution_count": null,
      "outputs": []
    },
    {
      "cell_type": "markdown",
      "source": [
        "### a) "
      ],
      "metadata": {
        "id": "YdOSHqN91RGC"
      }
    },
    {
      "cell_type": "code",
      "source": [
        "quilometragem = hod_final - hod_inicial"
      ],
      "metadata": {
        "id": "aeqRANIb1TtP"
      },
      "execution_count": null,
      "outputs": []
    },
    {
      "cell_type": "markdown",
      "source": [
        "### b)"
      ],
      "metadata": {
        "id": "z4uXammD1CsM"
      }
    },
    {
      "cell_type": "code",
      "source": [
        "km_l = quilometragem / litros"
      ],
      "metadata": {
        "id": "EJ8XeLm051xe"
      },
      "execution_count": null,
      "outputs": []
    },
    {
      "cell_type": "markdown",
      "source": [
        "### c)"
      ],
      "metadata": {
        "id": "VPc7d41w5496"
      }
    },
    {
      "cell_type": "code",
      "source": [
        "autonomia = km_l * tanque"
      ],
      "metadata": {
        "id": "yZ7Hk-Hw567u"
      },
      "execution_count": null,
      "outputs": []
    },
    {
      "cell_type": "markdown",
      "source": [
        "### d)"
      ],
      "metadata": {
        "id": "51enZa905-VP"
      }
    },
    {
      "cell_type": "code",
      "source": [
        "custo = (quilometragem / km_l) * preco_litro"
      ],
      "metadata": {
        "id": "f6Xcd6JI6ARn"
      },
      "execution_count": null,
      "outputs": []
    },
    {
      "cell_type": "markdown",
      "source": [
        "### Saída: "
      ],
      "metadata": {
        "id": "dKWXolQ26LVw"
      }
    },
    {
      "cell_type": "code",
      "source": [
        "print(f' Quilometragem: {quilometragem:.2f} Km\\n Km/l: {km_l:.2f}\\n Autonomia: {autonomia:.2f} Km\\n Custo da viagem: R$ {custo:.2f}')"
      ],
      "metadata": {
        "id": "4UG6q5KC6GCQ"
      },
      "execution_count": null,
      "outputs": []
    },
    {
      "cell_type": "markdown",
      "source": [
        "### 5. Escreva um programa que, dado um número inteiro representando uma quantidade de segundos, calcule quantas horas, minutos e segundos estão contidos nesta quantidade.\n",
        "Ex: 7.388 segundos = 2 horas, 3 minutos e 8 segundos."
      ],
      "metadata": {
        "id": "ko8Vyd_C6P1p"
      }
    },
    {
      "cell_type": "code",
      "source": [
        "seg =  int(input('Digite a quantidade de segundos: '))\n",
        "hora =  seg // 3600\n",
        "seg %= 3600\n",
        "min = seg//60\n",
        "seg %= 60"
      ],
      "metadata": {
        "id": "0MMWj6jM6XoT"
      },
      "execution_count": null,
      "outputs": []
    },
    {
      "cell_type": "markdown",
      "source": [
        "### 6. As Ilhas Weblands formam um reino independente nos mares do Pacífico. Como é um reino recente, a sociedade é muito influenciada pela informática. A moeda oficial é o Bit; existem notas de B\\$ 50, B\\$ 10, B\\$ 5 e B\\$ 1. Você foi contratado(a) para ajudar na programação dos caixas automáticos de um grande banco das Ilhas Weblands. Os caixas eletrônicos das Ilhas Weblands operam com todos os tipos de notas disponíveis, mantendo um estoque para cada valor de cédula. Os clientes do banco utilizam os caixas eletrônicos para efetuar retiradas de um certo número inteiro de Bits. Sua tarefa é escrever um programa que, dado o valor de Bits desejado pelo cliente, determine o número de cada uma das notas necessário para totalizar esse valor, de modo a minimizar a quantidade de cédulas entregues.\n",
        "Exemplo:\n",
        "\n",
        "Para B\\$ 72 seriam as seguintes notas:\n",
        "- 1 nota de B\\$ 50\n",
        "- 2 notas de B\\$ 10\n",
        "- 0 notas de B\\$ 5\n",
        "- 2 notas de B\\$ 1"
      ],
      "metadata": {
        "id": "Ng1NQ1K864yo"
      }
    },
    {
      "cell_type": "code",
      "source": [
        "bits = int(input('Digite a quantidade de bits: '))\n",
        "n_50 = bits // 50\n",
        "bits %= 50\n",
        "n_10 = bits // 10\n",
        "bits %= 10\n",
        "n_5 = bits // 5\n",
        "bits %= 5\n",
        "n_1 = bits\n",
        "\n",
        "print(f'- {n_50} notas de B$ 50\\n- {n_10} notas de B$ 10\\n- {n_5} notas de B$ 5\\n- {n_1} notas de B$ 1')"
      ],
      "metadata": {
        "id": "GHDwFhbs8O-t"
      },
      "execution_count": null,
      "outputs": []
    }
  ]
}