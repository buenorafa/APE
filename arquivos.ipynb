{
  "nbformat": 4,
  "nbformat_minor": 0,
  "metadata": {
    "colab": {
      "provenance": [],
      "authorship_tag": "ABX9TyMBjrpP60YdZjKmAR6S9SO3",
      "include_colab_link": true
    },
    "kernelspec": {
      "name": "python3",
      "display_name": "Python 3"
    },
    "language_info": {
      "name": "python"
    }
  },
  "cells": [
    {
      "cell_type": "markdown",
      "metadata": {
        "id": "view-in-github",
        "colab_type": "text"
      },
      "source": [
        "<a href=\"https://colab.research.google.com/github/buenorafa/APE/blob/main/arquivos.ipynb\" target=\"_parent\"><img src=\"https://colab.research.google.com/assets/colab-badge.svg\" alt=\"Open In Colab\"/></a>"
      ]
    },
    {
      "cell_type": "markdown",
      "source": [
        "# LISTA DE EXERCÍCIOS: MANIPULAÇÃO DE ARQUIVOS"
      ],
      "metadata": {
        "id": "ONdYIHD64Sd4"
      }
    },
    {
      "cell_type": "markdown",
      "source": [
        "### 1. Escreva um programa que exiba na tela um arquivo texto cujo nome será lido pelo teclado."
      ],
      "metadata": {
        "id": "-278h0Ix4SUP"
      }
    },
    {
      "cell_type": "code",
      "execution_count": null,
      "metadata": {
        "id": "opSN1iZ34P0u"
      },
      "outputs": [],
      "source": [
        "# Cria o nome do arquivo + extensão \n",
        "nome_arq = input('Digite o nome do arquivo: ')\n",
        "# print(nome_arq)\n",
        "#Leitura do arquivo\n",
        "arq = open(nome_arq, 'r')\n",
        "# A var texto passa ser igual ao conteúdo do arquivo.txt\n",
        "texto = arq.read()\n",
        "#Fecha o arquivo \n",
        "arq.close()\n",
        "# Printa a var texto\n",
        "print('\\nConteúdo do arquivo:')\n",
        "print(texto)"
      ]
    },
    {
      "cell_type": "markdown",
      "source": [
        "### 2. Escreva um programa que copie um arquivo texto (cujo nome será lido pelo teclado) para um novo arquivo chamado COPIA TXT, porém substituindo todos os brancos contidos no arquivo pelo ponto."
      ],
      "metadata": {
        "id": "LOd-vDIy4lSr"
      }
    },
    {
      "cell_type": "code",
      "source": [
        "# Lê o arquivo que vai ser copiado\n",
        "nome = input('Digite o arquivo a ser copiado: ')\n",
        "# Abre o digitado no modo de leitura\n",
        "arq = open(nome, 'r')\n",
        "# Cria um arquivo 'copia.txt' no modo de escrita\n",
        "copia = open('copia.txt', 'w')\n",
        "# A var texto recebe o conteudo do arquivo.txt\n",
        "texto = arq.read()\n",
        "# Fecha o arq\n",
        "arq.close()\n",
        "# Agora a var texto substitui os espaços por pontos \n",
        "texto = texto.replace(' ', '.')\n",
        "copia.write(texto)\n",
        "copia.close()"
      ],
      "metadata": {
        "id": "5TO94KmZ4pLM"
      },
      "execution_count": null,
      "outputs": []
    },
    {
      "cell_type": "markdown",
      "source": [
        "### 3. Escreva um programa que leia do teclado o nome de um arquivo texto e uma string, abra o arquivo e inclua no final dele a string lida."
      ],
      "metadata": {
        "id": "nlalZa8D4pg5"
      }
    },
    {
      "cell_type": "code",
      "source": [
        "nome = input('Digite o nome do arquivo: ')\n",
        "arq = open(nome, 'a')\n",
        "texto = input('Digite a string a ser adicionada: ')\n",
        "arq.write(texto + '\\n')\n",
        "arq.close()"
      ],
      "metadata": {
        "id": "34HSgZDQ4tE_"
      },
      "execution_count": null,
      "outputs": []
    },
    {
      "cell_type": "markdown",
      "source": [
        "### 4. Escreva um programa que abra um arquivo texto e o exiba na tela com todas as suas linhas numeradas sequencialmente."
      ],
      "metadata": {
        "id": "kV8U8oeJ4tlU"
      }
    },
    {
      "cell_type": "code",
      "source": [
        "arq = open('arquivo.txt', 'r')\n",
        "n = 1\n",
        "for i in arq:\n",
        "  # end='' porque cada linha do arquivo já tem o \\n \n",
        "  print(f'{n}\\t{i}', end='')\n",
        "  n += 1"
      ],
      "metadata": {
        "id": "lYn1bqIl4wo0"
      },
      "execution_count": null,
      "outputs": []
    },
    {
      "cell_type": "markdown",
      "source": [
        "### 5. Escreva um programa que leia do teclado o nome de um arquivo texto e uma string, abra o arquivo e inclua no início dele a string lida."
      ],
      "metadata": {
        "id": "23yCdPkf4wFL"
      }
    },
    {
      "cell_type": "code",
      "source": [
        "arq = open('arquivo.txt', 'r')\n",
        "# Salva o conteúdo do arquivo na var texto\n",
        "conteudo = arq.read()\n",
        "arq.close()\n",
        "# Abre no modo de escrita\n",
        "arq = open('arquivo.txt', 'w')\n",
        "texto = input('Digite a string a ser adicionada: ')\n",
        "# No modo w a func '.write()' substitui tudo que existia antes no arquivo\n",
        "novo_texto = texto + '\\n' + conteudo\n",
        "arq.write(novo_texto)\n",
        "arq.close()\n",
        "\n"
      ],
      "metadata": {
        "id": "Ct6k978W40Xt"
      },
      "execution_count": null,
      "outputs": []
    },
    {
      "cell_type": "markdown",
      "source": [
        "### 6. Escreva um programa que crie um arquivo texto resultante da concatenação de dois outros arquivos."
      ],
      "metadata": {
        "id": "-48zQw5W400P"
      }
    },
    {
      "cell_type": "code",
      "source": [
        "arq_1 = open('arquivo.txt', 'r')\n",
        "arq_2 = open('copia.txt', 'r')\n",
        "\n",
        "cont_1 = arq_1.read()\n",
        "cont_2 = arq_2.read()\n",
        "\n",
        "arq_1.close()\n",
        "arq_2.close()\n",
        "\n",
        "texto = cont_1 + '\\n' +cont_2\n",
        "\n",
        "concat = open('concat.txt', 'w')\n",
        "concat.write(texto)"
      ],
      "metadata": {
        "id": "_oruGIM943tA"
      },
      "execution_count": null,
      "outputs": []
    },
    {
      "cell_type": "markdown",
      "source": [
        "### 7. Escreva um programa que abra um arquivo texto e conte o número de caracteres (excluindo os brancos e as quebras de linha) contidos no arquivo. Exiba na tela o resultado."
      ],
      "metadata": {
        "id": "5Nn4x9CI43-9"
      }
    },
    {
      "cell_type": "code",
      "source": [
        "arq = open('copia.txt', 'r')\n",
        "texto = arq.read()\n",
        "\n",
        "total = len(texto)\n",
        "branco = texto.count(' ')\n",
        "quebra_linha = texto.count('\\n')\n",
        "\n",
        "resultado = total - branco - quebra_linha\n",
        "\n",
        "print(f'Resultado: {resultado}')"
      ],
      "metadata": {
        "id": "sieUvOWd47a0"
      },
      "execution_count": null,
      "outputs": []
    },
    {
      "cell_type": "markdown",
      "source": [
        "### 8. Escreva um programa que leia do teclado o nome, o sexo e a idade de várias pessoas e armazene esses dados em um arquivo texto chamado CADASTRO.TXT, sendo uma pessoa por linha e os dados separados por vírgula.\n",
        "Obs: a leitura do nome vazio (string nula) encerra os dados de entrada."
      ],
      "metadata": {
        "id": "pKr7f5HZ477b"
      }
    },
    {
      "cell_type": "code",
      "source": [
        "arq = open('cadastro.txt', 'w')\n",
        "\n",
        "print('Cadastro (P/ encerrar, deixe o nome vazio):')\n",
        "while True:\n",
        "  nome = input('Digite o nome: ')\n",
        "  if nome == '':\n",
        "    break\n",
        "  sexo = input('Digite o sexo: ')\n",
        "  idade = input('Digite a idade: ')\n",
        "  linha = nome + '/' + sexo + '/' + idade + '\\n'\n",
        "  arq.write(linha)\n",
        "arq.close()"
      ],
      "metadata": {
        "id": "ctEicoMU5Amk"
      },
      "execution_count": null,
      "outputs": []
    },
    {
      "cell_type": "markdown",
      "source": [
        "### 9. Escreva um programa que leia o arquivo gerado na questão 8 e calcule a média de idade dos homens e a média de idade das mulheres."
      ],
      "metadata": {
        "id": "yNQtY07T5A-a"
      }
    },
    {
      "cell_type": "code",
      "source": [
        "arq = open('cadastro.txt','r')\n",
        "\n",
        "h = 0\n",
        "m = 0\n",
        "idade_h = 0\n",
        "idade_m = 0\n",
        "for i in arq:\n",
        "  linha = i.split('/')\n",
        "  sexo = linha[1].upper()\n",
        "  idade = int(linha[2])\n",
        "  if sexo == 'M':\n",
        "    idade_h += idade\n",
        "    h += 1\n",
        "  else:\n",
        "    idade_m += idade\n",
        "    m += 1\n",
        "\n",
        "arq.close()\n",
        "\n",
        "print(f'Média H: {idade_h/h:.0f}')\n",
        "print(f'Média M: {idade_m/m:.0f}')"
      ],
      "metadata": {
        "id": "yj3PNAG15DrY"
      },
      "execution_count": null,
      "outputs": []
    },
    {
      "cell_type": "markdown",
      "source": [
        "### 10.Escreva um programa que leia o arquivo gerado na questão 8 e copie os nomes distribuindo para dois novos arquivos: machos.txt e femeas.txt (sendo um nome por linha)."
      ],
      "metadata": {
        "id": "xNFkm7zX5EPN"
      }
    },
    {
      "cell_type": "code",
      "source": [
        "arq = open('cadastro.txt','r')\n",
        "\n",
        "arq_m = open('machos.txt', 'w')\n",
        "arq_f = open('femeas.txt', 'w')\n",
        "\n",
        "\n",
        "for i in arq:\n",
        "  linha = i.split('/')\n",
        "  nome = linha[0]\n",
        "  sexo = linha[1].upper()\n",
        "  if sexo == 'M':\n",
        "    arq_m.write(nome + '\\n')\n",
        "  else:\n",
        "    arq_f.write(nome + '\\n')\n",
        "\n",
        "arq.close()\n",
        "arq_m.close()\n",
        "arq_f.close()"
      ],
      "metadata": {
        "id": "wfQ8qr-_5JJW"
      },
      "execution_count": 40,
      "outputs": []
    }
  ]
}