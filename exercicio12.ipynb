{
  "nbformat": 4,
  "nbformat_minor": 0,
  "metadata": {
    "colab": {
      "provenance": [],
      "authorship_tag": "ABX9TyOA5XXgf3Pm4OZ5WzBI0NI5",
      "include_colab_link": true
    },
    "kernelspec": {
      "name": "python3",
      "display_name": "Python 3"
    },
    "language_info": {
      "name": "python"
    }
  },
  "cells": [
    {
      "cell_type": "markdown",
      "metadata": {
        "id": "view-in-github",
        "colab_type": "text"
      },
      "source": [
        "<a href=\"https://colab.research.google.com/github/buenorafa/APE/blob/main/exercicio12.ipynb\" target=\"_parent\"><img src=\"https://colab.research.google.com/assets/colab-badge.svg\" alt=\"Open In Colab\"/></a>"
      ]
    },
    {
      "cell_type": "markdown",
      "source": [
        "# LISTA DE EXERCÍCIOS: STRINGS"
      ],
      "metadata": {
        "id": "MjLKbrtFsBHQ"
      }
    },
    {
      "cell_type": "markdown",
      "source": [
        "### 1. Faça um programa que leia uma frase e determine a quantidade de brancos contidos na mesma."
      ],
      "metadata": {
        "id": "PTh6cUmKsOTy"
      }
    },
    {
      "cell_type": "code",
      "execution_count": null,
      "metadata": {
        "id": "N8biuG5Or9-Q"
      },
      "outputs": [],
      "source": [
        "# Utilizando função count\n",
        "frase = input('Digite a frase: ')\n",
        "espaco = frase.count(' ')\n",
        "print(f'Espaços em branco: {espaco}')"
      ]
    },
    {
      "cell_type": "code",
      "source": [
        "# Sem utilizar nenhuma função\n",
        "frase = input('Digite a frase: ')\n",
        "count = 0\n",
        "for i in frase:\n",
        "  if i == ' ':\n",
        "    count += 1\n",
        "print(f'Espaços em branco: {count}')"
      ],
      "metadata": {
        "id": "wmj0swR1uVBg"
      },
      "execution_count": null,
      "outputs": []
    },
    {
      "cell_type": "markdown",
      "source": [
        "### 2. Faça um programa que leia uma frase e a exiba sem os espaços em branco."
      ],
      "metadata": {
        "id": "MGL34FSCu-Dk"
      }
    },
    {
      "cell_type": "code",
      "source": [
        "# Utilizando função replace\n",
        "frase = input('Digite a frase: ')\n",
        "# A func. replace substitui o primeiro arg pelo segundo,\n",
        "# neste caso ela substitui o espaço em branco por um espaço vazio\n",
        "remove = frase.replace(' ', '')\n",
        "print(remove)"
      ],
      "metadata": {
        "id": "LI8C6D8pvDZg"
      },
      "execution_count": null,
      "outputs": []
    },
    {
      "cell_type": "code",
      "source": [
        "# Sem utilizar função\n",
        "frase = input('Digite a frase: ')\n",
        "for i in frase:\n",
        "  # Caso o caractere seja espaço branco,\n",
        "  # o comando continue pula para proxima iteração do laço\n",
        "  if i == ' ': \n",
        "    continue\n",
        "  print(i, end='')"
      ],
      "metadata": {
        "id": "7u6-UOJ606dr"
      },
      "execution_count": null,
      "outputs": []
    },
    {
      "cell_type": "markdown",
      "source": [
        "### 3. Faça um programa que leia uma frase e a exiba toda em letras maiúsculas."
      ],
      "metadata": {
        "id": "e2daZXWG14tq"
      }
    },
    {
      "cell_type": "code",
      "source": [
        "# Utilizando função upper\n",
        "frase = input('Digite a frase: ')\n",
        "maiuscula = frase.upper()\n",
        "print(maiuscula) "
      ],
      "metadata": {
        "id": "MZZhDel92sYb"
      },
      "execution_count": null,
      "outputs": []
    },
    {
      "cell_type": "markdown",
      "source": [
        "### 4. Faça um programa que leia uma frase e a exiba com a inicial de cada palavra em maiúsculo."
      ],
      "metadata": {
        "id": "TNh7L1gW2yyn"
      }
    },
    {
      "cell_type": "code",
      "source": [
        "# Utilizando função title\n",
        "frase = input('Digite a frase: ')\n",
        "print(frase.title())"
      ],
      "metadata": {
        "id": "_X2qRd9B22I6"
      },
      "execution_count": null,
      "outputs": []
    },
    {
      "cell_type": "markdown",
      "source": [
        "### 5. Faça um programa que leia uma frase e a exiba com uma letra em cada linha."
      ],
      "metadata": {
        "id": "Cro0XIAk228u"
      }
    },
    {
      "cell_type": "code",
      "source": [
        "# Sem funções\n",
        "frase = input('Digite a frase: ')\n",
        "for i in frase:\n",
        "  print(i)"
      ],
      "metadata": {
        "id": "DNdxXC9826cb"
      },
      "execution_count": null,
      "outputs": []
    },
    {
      "cell_type": "markdown",
      "source": [
        "### 6. Faça um programa que leia uma frase e a exiba invertida."
      ],
      "metadata": {
        "id": "uCU-E9yP27IL"
      }
    },
    {
      "cell_type": "code",
      "source": [
        "# Utilizando a função slice\n",
        "frase = input('Digite a frase: ')\n",
        "n = len(frase)\n",
        "print(frase[n::-1])"
      ],
      "metadata": {
        "id": "bJOIsyh529eM"
      },
      "execution_count": null,
      "outputs": []
    },
    {
      "cell_type": "code",
      "source": [
        "# Sem funções\n",
        "frase = input('Digite a frase: ')\n",
        "n = len(frase)\n",
        "for i in range(n-1, -1, -1):\n",
        "  print(frase[i], end='')"
      ],
      "metadata": {
        "id": "di1Zb3TU29wZ"
      },
      "execution_count": null,
      "outputs": []
    }
  ]
}